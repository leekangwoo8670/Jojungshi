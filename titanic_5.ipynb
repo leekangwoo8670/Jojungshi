{
  "nbformat": 4,
  "nbformat_minor": 0,
  "metadata": {
    "colab": {
      "name": "titanic_5.ipynb",
      "provenance": [],
      "collapsed_sections": [],
      "include_colab_link": true
    },
    "kernelspec": {
      "name": "python3",
      "display_name": "Python 3"
    }
  },
  "cells": [
    {
      "cell_type": "markdown",
      "metadata": {
        "id": "view-in-github",
        "colab_type": "text"
      },
      "source": [
        "<a href=\"https://colab.research.google.com/github/leekangwoo8670/Jojungshi/blob/master/titanic_5.ipynb\" target=\"_parent\"><img src=\"https://colab.research.google.com/assets/colab-badge.svg\" alt=\"Open In Colab\"/></a>"
      ]
    },
    {
      "cell_type": "code",
      "metadata": {
        "colab": {
          "base_uri": "https://localhost:8080/",
          "height": 17
        },
        "id": "8Tf_oTbtM1PG",
        "outputId": "7f0e9ca1-6f23-4879-c6df-bd6b8aec5c98"
      },
      "source": [
        "import pandas as pd\r\n",
        "import numpy as np\r\n",
        "import re\r\n",
        "import sklearn\r\n",
        "import xgboost as xgb\r\n",
        "import seaborn as sns\r\n",
        "import matplotlib.pyplot as plt\r\n",
        "%matplotlib inline\r\n",
        "import tensorflow as tf\r\n",
        "\r\n",
        "import plotly.offline as py\r\n",
        "py.init_notebook_mode(connected=True)\r\n",
        "import plotly.graph_objs as go\r\n",
        "import plotly.tools as tls\r\n",
        "\r\n",
        "import warnings\r\n",
        "warnings.filterwarnings('ignore')\r\n",
        "\r\n",
        "# Going to use these 5 base models for the stacking\r\n",
        "from sklearn.ensemble import (RandomForestClassifier, AdaBoostClassifier, \r\n",
        "                              GradientBoostingClassifier, ExtraTreesClassifier)\r\n",
        "from sklearn.svm import SVC"
      ],
      "execution_count": null,
      "outputs": [
        {
          "output_type": "display_data",
          "data": {
            "text/html": [
              "        <script type=\"text/javascript\">\n",
              "        window.PlotlyConfig = {MathJaxConfig: 'local'};\n",
              "        if (window.MathJax) {MathJax.Hub.Config({SVG: {font: \"STIX-Web\"}});}\n",
              "        if (typeof require !== 'undefined') {\n",
              "        require.undef(\"plotly\");\n",
              "        requirejs.config({\n",
              "            paths: {\n",
              "                'plotly': ['https://cdn.plot.ly/plotly-latest.min']\n",
              "            }\n",
              "        });\n",
              "        require(['plotly'], function(Plotly) {\n",
              "            window._Plotly = Plotly;\n",
              "        });\n",
              "        }\n",
              "        </script>\n",
              "        "
            ]
          },
          "metadata": {
            "tags": []
          }
        }
      ]
    },
    {
      "cell_type": "code",
      "metadata": {
        "id": "T16rsJvtM4DL"
      },
      "source": [
        "train = pd.read_csv(\"/content/sample_data/train.csv\")\r\n",
        "submit = pd.read_csv(\"/content/sample_data/test.csv\")"
      ],
      "execution_count": null,
      "outputs": []
    },
    {
      "cell_type": "code",
      "metadata": {
        "colab": {
          "base_uri": "https://localhost:8080/",
          "height": 233
        },
        "id": "tW3SGdSXM7Ek",
        "outputId": "9ec73083-d71e-4867-c1d9-24c2eba372d3"
      },
      "source": [
        "train.head()"
      ],
      "execution_count": null,
      "outputs": [
        {
          "output_type": "execute_result",
          "data": {
            "text/html": [
              "<div>\n",
              "<style scoped>\n",
              "    .dataframe tbody tr th:only-of-type {\n",
              "        vertical-align: middle;\n",
              "    }\n",
              "\n",
              "    .dataframe tbody tr th {\n",
              "        vertical-align: top;\n",
              "    }\n",
              "\n",
              "    .dataframe thead th {\n",
              "        text-align: right;\n",
              "    }\n",
              "</style>\n",
              "<table border=\"1\" class=\"dataframe\">\n",
              "  <thead>\n",
              "    <tr style=\"text-align: right;\">\n",
              "      <th></th>\n",
              "      <th>PassengerId</th>\n",
              "      <th>Survived</th>\n",
              "      <th>Pclass</th>\n",
              "      <th>Name</th>\n",
              "      <th>Sex</th>\n",
              "      <th>Age</th>\n",
              "      <th>SibSp</th>\n",
              "      <th>Parch</th>\n",
              "      <th>Ticket</th>\n",
              "      <th>Fare</th>\n",
              "      <th>Cabin</th>\n",
              "      <th>Embarked</th>\n",
              "    </tr>\n",
              "  </thead>\n",
              "  <tbody>\n",
              "    <tr>\n",
              "      <th>0</th>\n",
              "      <td>1</td>\n",
              "      <td>0</td>\n",
              "      <td>3</td>\n",
              "      <td>Braund, Mr. Owen Harris</td>\n",
              "      <td>male</td>\n",
              "      <td>22.0</td>\n",
              "      <td>1</td>\n",
              "      <td>0</td>\n",
              "      <td>A/5 21171</td>\n",
              "      <td>7.2500</td>\n",
              "      <td>NaN</td>\n",
              "      <td>S</td>\n",
              "    </tr>\n",
              "    <tr>\n",
              "      <th>1</th>\n",
              "      <td>2</td>\n",
              "      <td>1</td>\n",
              "      <td>1</td>\n",
              "      <td>Cumings, Mrs. John Bradley (Florence Briggs Th...</td>\n",
              "      <td>female</td>\n",
              "      <td>38.0</td>\n",
              "      <td>1</td>\n",
              "      <td>0</td>\n",
              "      <td>PC 17599</td>\n",
              "      <td>71.2833</td>\n",
              "      <td>C85</td>\n",
              "      <td>C</td>\n",
              "    </tr>\n",
              "    <tr>\n",
              "      <th>2</th>\n",
              "      <td>3</td>\n",
              "      <td>1</td>\n",
              "      <td>3</td>\n",
              "      <td>Heikkinen, Miss. Laina</td>\n",
              "      <td>female</td>\n",
              "      <td>26.0</td>\n",
              "      <td>0</td>\n",
              "      <td>0</td>\n",
              "      <td>STON/O2. 3101282</td>\n",
              "      <td>7.9250</td>\n",
              "      <td>NaN</td>\n",
              "      <td>S</td>\n",
              "    </tr>\n",
              "    <tr>\n",
              "      <th>3</th>\n",
              "      <td>4</td>\n",
              "      <td>1</td>\n",
              "      <td>1</td>\n",
              "      <td>Futrelle, Mrs. Jacques Heath (Lily May Peel)</td>\n",
              "      <td>female</td>\n",
              "      <td>35.0</td>\n",
              "      <td>1</td>\n",
              "      <td>0</td>\n",
              "      <td>113803</td>\n",
              "      <td>53.1000</td>\n",
              "      <td>C123</td>\n",
              "      <td>S</td>\n",
              "    </tr>\n",
              "    <tr>\n",
              "      <th>4</th>\n",
              "      <td>5</td>\n",
              "      <td>0</td>\n",
              "      <td>3</td>\n",
              "      <td>Allen, Mr. William Henry</td>\n",
              "      <td>male</td>\n",
              "      <td>35.0</td>\n",
              "      <td>0</td>\n",
              "      <td>0</td>\n",
              "      <td>373450</td>\n",
              "      <td>8.0500</td>\n",
              "      <td>NaN</td>\n",
              "      <td>S</td>\n",
              "    </tr>\n",
              "  </tbody>\n",
              "</table>\n",
              "</div>"
            ],
            "text/plain": [
              "   PassengerId  Survived  Pclass  ...     Fare Cabin  Embarked\n",
              "0            1         0       3  ...   7.2500   NaN         S\n",
              "1            2         1       1  ...  71.2833   C85         C\n",
              "2            3         1       3  ...   7.9250   NaN         S\n",
              "3            4         1       1  ...  53.1000  C123         S\n",
              "4            5         0       3  ...   8.0500   NaN         S\n",
              "\n",
              "[5 rows x 12 columns]"
            ]
          },
          "metadata": {
            "tags": []
          },
          "execution_count": 172
        }
      ]
    },
    {
      "cell_type": "code",
      "metadata": {
        "id": "_XC4ti2ENehX"
      },
      "source": [
        "full_data = [train, submit]"
      ],
      "execution_count": null,
      "outputs": []
    },
    {
      "cell_type": "code",
      "metadata": {
        "id": "E4M3jilFPdp7"
      },
      "source": [
        "titanic = pd.concat([train, submit], axis=0).reset_index(drop=True)"
      ],
      "execution_count": null,
      "outputs": []
    },
    {
      "cell_type": "markdown",
      "metadata": {
        "id": "ALVhpRgXOKX7"
      },
      "source": [
        "1.Age"
      ]
    },
    {
      "cell_type": "code",
      "metadata": {
        "id": "_g_Id3xQM9kY"
      },
      "source": [
        "titanic['Age'] = titanic.groupby(['Pclass', 'Sex'])['Age'].apply(lambda x: x.fillna(x.median()))"
      ],
      "execution_count": null,
      "outputs": []
    },
    {
      "cell_type": "code",
      "metadata": {
        "id": "NEV7qVqXQVRw"
      },
      "source": [
        "titanic['Age'] = pd.cut(titanic['Age'].astype(int), 5)"
      ],
      "execution_count": null,
      "outputs": []
    },
    {
      "cell_type": "code",
      "metadata": {
        "colab": {
          "base_uri": "https://localhost:8080/"
        },
        "id": "RCFYCxvwRGTW",
        "outputId": "865c542e-3cec-4089-c33b-fd22b6fe2709"
      },
      "source": [
        "titanic['Age'].value_counts()"
      ],
      "execution_count": null,
      "outputs": [
        {
          "output_type": "execute_result",
          "data": {
            "text/plain": [
              "(16.0, 32.0]     752\n",
              "(32.0, 48.0]     304\n",
              "(-0.08, 16.0]    134\n",
              "(48.0, 64.0]     106\n",
              "(64.0, 80.0]      13\n",
              "Name: Age, dtype: int64"
            ]
          },
          "metadata": {
            "tags": []
          },
          "execution_count": 177
        }
      ]
    },
    {
      "cell_type": "markdown",
      "metadata": {
        "id": "P6YluRzVOm0m"
      },
      "source": [
        "2.Fare"
      ]
    },
    {
      "cell_type": "code",
      "metadata": {
        "colab": {
          "base_uri": "https://localhost:8080/",
          "height": 78
        },
        "id": "ZrESxRkkOn8Y",
        "outputId": "d983304b-5224-4e29-9069-717a49b216d3"
      },
      "source": [
        "titanic.loc[titanic['Fare'].isnull()]"
      ],
      "execution_count": null,
      "outputs": [
        {
          "output_type": "execute_result",
          "data": {
            "text/html": [
              "<div>\n",
              "<style scoped>\n",
              "    .dataframe tbody tr th:only-of-type {\n",
              "        vertical-align: middle;\n",
              "    }\n",
              "\n",
              "    .dataframe tbody tr th {\n",
              "        vertical-align: top;\n",
              "    }\n",
              "\n",
              "    .dataframe thead th {\n",
              "        text-align: right;\n",
              "    }\n",
              "</style>\n",
              "<table border=\"1\" class=\"dataframe\">\n",
              "  <thead>\n",
              "    <tr style=\"text-align: right;\">\n",
              "      <th></th>\n",
              "      <th>PassengerId</th>\n",
              "      <th>Survived</th>\n",
              "      <th>Pclass</th>\n",
              "      <th>Name</th>\n",
              "      <th>Sex</th>\n",
              "      <th>Age</th>\n",
              "      <th>SibSp</th>\n",
              "      <th>Parch</th>\n",
              "      <th>Ticket</th>\n",
              "      <th>Fare</th>\n",
              "      <th>Cabin</th>\n",
              "      <th>Embarked</th>\n",
              "    </tr>\n",
              "  </thead>\n",
              "  <tbody>\n",
              "    <tr>\n",
              "      <th>1043</th>\n",
              "      <td>1044</td>\n",
              "      <td>NaN</td>\n",
              "      <td>3</td>\n",
              "      <td>Storey, Mr. Thomas</td>\n",
              "      <td>male</td>\n",
              "      <td>(48.0, 64.0]</td>\n",
              "      <td>0</td>\n",
              "      <td>0</td>\n",
              "      <td>3701</td>\n",
              "      <td>NaN</td>\n",
              "      <td>NaN</td>\n",
              "      <td>S</td>\n",
              "    </tr>\n",
              "  </tbody>\n",
              "</table>\n",
              "</div>"
            ],
            "text/plain": [
              "      PassengerId  Survived  Pclass  ... Fare Cabin Embarked\n",
              "1043         1044       NaN       3  ...  NaN   NaN        S\n",
              "\n",
              "[1 rows x 12 columns]"
            ]
          },
          "metadata": {
            "tags": []
          },
          "execution_count": 178
        }
      ]
    },
    {
      "cell_type": "code",
      "metadata": {
        "colab": {
          "base_uri": "https://localhost:8080/"
        },
        "id": "PkBqMGsBOtiJ",
        "outputId": "b1c9bda5-636f-4035-b0ac-626be5ba919e"
      },
      "source": [
        "Thomas = titanic.loc[(titanic['Pclass'] == 3) & (titanic['SibSp'] == 0) & (titanic['Embarked'] == 'S')]['Fare'].median()\r\n",
        "print(Thomas)"
      ],
      "execution_count": null,
      "outputs": [
        {
          "output_type": "stream",
          "text": [
            "7.925\n"
          ],
          "name": "stdout"
        }
      ]
    },
    {
      "cell_type": "code",
      "metadata": {
        "id": "rzo5I3HAPkW9"
      },
      "source": [
        "titanic.loc[titanic['Fare'].isnull(), 'Fare'] = Thomas"
      ],
      "execution_count": null,
      "outputs": []
    },
    {
      "cell_type": "code",
      "metadata": {
        "id": "ve_ugGS_PvmP"
      },
      "source": [
        "titanic['Fare'] = pd.qcut(titanic['Fare'], 5)"
      ],
      "execution_count": null,
      "outputs": []
    },
    {
      "cell_type": "code",
      "metadata": {
        "colab": {
          "base_uri": "https://localhost:8080/"
        },
        "id": "5D-Jjgs0Rx_k",
        "outputId": "f14d4ddd-2f81-4a8d-90f2-1967b80908fd"
      },
      "source": [
        "titanic['Fare'].value_counts()"
      ],
      "execution_count": null,
      "outputs": [
        {
          "output_type": "execute_result",
          "data": {
            "text/plain": [
              "(-0.001, 7.854]      275\n",
              "(21.558, 41.579]     265\n",
              "(41.579, 512.329]    259\n",
              "(10.5, 21.558]       255\n",
              "(7.854, 10.5]        255\n",
              "Name: Fare, dtype: int64"
            ]
          },
          "metadata": {
            "tags": []
          },
          "execution_count": 182
        }
      ]
    },
    {
      "cell_type": "markdown",
      "metadata": {
        "id": "iPPcUGkXT2ys"
      },
      "source": [
        "3.Cabin"
      ]
    },
    {
      "cell_type": "code",
      "metadata": {
        "id": "6_kUvrC0T6di",
        "colab": {
          "base_uri": "https://localhost:8080/"
        },
        "outputId": "8830f085-df31-4306-f9b1-ec9e83536718"
      },
      "source": [
        "print(titanic['Cabin'].unique())"
      ],
      "execution_count": null,
      "outputs": [
        {
          "output_type": "stream",
          "text": [
            "[nan 'C85' 'C123' 'E46' 'G6' 'C103' 'D56' 'A6' 'C23 C25 C27' 'B78' 'D33'\n",
            " 'B30' 'C52' 'B28' 'C83' 'F33' 'F G73' 'E31' 'A5' 'D10 D12' 'D26' 'C110'\n",
            " 'B58 B60' 'E101' 'F E69' 'D47' 'B86' 'F2' 'C2' 'E33' 'B19' 'A7' 'C49'\n",
            " 'F4' 'A32' 'B4' 'B80' 'A31' 'D36' 'D15' 'C93' 'C78' 'D35' 'C87' 'B77'\n",
            " 'E67' 'B94' 'C125' 'C99' 'C118' 'D7' 'A19' 'B49' 'D' 'C22 C26' 'C106'\n",
            " 'C65' 'E36' 'C54' 'B57 B59 B63 B66' 'C7' 'E34' 'C32' 'B18' 'C124' 'C91'\n",
            " 'E40' 'T' 'C128' 'D37' 'B35' 'E50' 'C82' 'B96 B98' 'E10' 'E44' 'A34'\n",
            " 'C104' 'C111' 'C92' 'E38' 'D21' 'E12' 'E63' 'A14' 'B37' 'C30' 'D20' 'B79'\n",
            " 'E25' 'D46' 'B73' 'C95' 'B38' 'B39' 'B22' 'C86' 'C70' 'A16' 'C101' 'C68'\n",
            " 'A10' 'E68' 'B41' 'A20' 'D19' 'D50' 'D9' 'A23' 'B50' 'A26' 'D48' 'E58'\n",
            " 'C126' 'B71' 'B51 B53 B55' 'D49' 'B5' 'B20' 'F G63' 'C62 C64' 'E24' 'C90'\n",
            " 'C45' 'E8' 'B101' 'D45' 'C46' 'D30' 'E121' 'D11' 'E77' 'F38' 'B3' 'D6'\n",
            " 'B82 B84' 'D17' 'A36' 'B102' 'B69' 'E49' 'C47' 'D28' 'E17' 'A24' 'C50'\n",
            " 'B42' 'C148' 'B45' 'B36' 'A21' 'D34' 'A9' 'C31' 'B61' 'C53' 'D43' 'C130'\n",
            " 'C132' 'C55 C57' 'C116' 'F' 'A29' 'C6' 'C28' 'C51' 'C97' 'D22' 'B10'\n",
            " 'E45' 'E52' 'A11' 'B11' 'C80' 'C89' 'F E46' 'B26' 'F E57' 'A18' 'E60'\n",
            " 'E39 E41' 'B52 B54 B56' 'C39' 'B24' 'D40' 'D38' 'C105']\n"
          ],
          "name": "stdout"
        }
      ]
    },
    {
      "cell_type": "code",
      "metadata": {
        "colab": {
          "base_uri": "https://localhost:8080/"
        },
        "id": "Q1nD8cqvT95u",
        "outputId": "9ed54dd2-3216-4f8f-a7b0-0ca358ee5e58"
      },
      "source": [
        "print(titanic['Cabin'].nunique())\r\n",
        "print(titanic['Cabin'].isnull().sum())"
      ],
      "execution_count": null,
      "outputs": [
        {
          "output_type": "stream",
          "text": [
            "186\n",
            "1014\n"
          ],
          "name": "stdout"
        }
      ]
    },
    {
      "cell_type": "code",
      "metadata": {
        "id": "m0-HbefIUyAQ"
      },
      "source": [
        "titanic['Deck'] = titanic['Cabin'].apply(lambda s: s[0] if pd.notnull(s) else 'M')"
      ],
      "execution_count": null,
      "outputs": []
    },
    {
      "cell_type": "code",
      "metadata": {
        "colab": {
          "base_uri": "https://localhost:8080/"
        },
        "id": "pD1n-8CPVkfn",
        "outputId": "f48848d9-6fb5-4d97-9e24-803307692db4"
      },
      "source": [
        "titanic[titanic['Pclass']==1]['Deck'].value_counts()"
      ],
      "execution_count": null,
      "outputs": [
        {
          "output_type": "execute_result",
          "data": {
            "text/plain": [
              "C    94\n",
              "M    67\n",
              "B    65\n",
              "D    40\n",
              "E    34\n",
              "A    22\n",
              "T     1\n",
              "Name: Deck, dtype: int64"
            ]
          },
          "metadata": {
            "tags": []
          },
          "execution_count": 186
        }
      ]
    },
    {
      "cell_type": "code",
      "metadata": {
        "colab": {
          "base_uri": "https://localhost:8080/"
        },
        "id": "dd_od-DgVvNZ",
        "outputId": "45a09286-378a-4d7d-992a-68d70d2881bd"
      },
      "source": [
        "titanic[titanic['Pclass']==2]['Deck'].value_counts()"
      ],
      "execution_count": null,
      "outputs": [
        {
          "output_type": "execute_result",
          "data": {
            "text/plain": [
              "M    254\n",
              "F     13\n",
              "D      6\n",
              "E      4\n",
              "Name: Deck, dtype: int64"
            ]
          },
          "metadata": {
            "tags": []
          },
          "execution_count": 187
        }
      ]
    },
    {
      "cell_type": "code",
      "metadata": {
        "colab": {
          "base_uri": "https://localhost:8080/"
        },
        "id": "PpJ1JcydV2ro",
        "outputId": "4623c6e4-a90a-4df4-8690-e68d3721f613"
      },
      "source": [
        "titanic[titanic['Pclass']==3]['Deck'].value_counts()"
      ],
      "execution_count": null,
      "outputs": [
        {
          "output_type": "execute_result",
          "data": {
            "text/plain": [
              "M    693\n",
              "F      8\n",
              "G      5\n",
              "E      3\n",
              "Name: Deck, dtype: int64"
            ]
          },
          "metadata": {
            "tags": []
          },
          "execution_count": 188
        }
      ]
    },
    {
      "cell_type": "code",
      "metadata": {
        "colab": {
          "base_uri": "https://localhost:8080/",
          "height": 78
        },
        "id": "CxUQT8f9V3zj",
        "outputId": "265a6a26-36e9-4175-9a49-2cd08118d0ed"
      },
      "source": [
        "titanic[titanic['Deck'] == 'T']"
      ],
      "execution_count": null,
      "outputs": [
        {
          "output_type": "execute_result",
          "data": {
            "text/html": [
              "<div>\n",
              "<style scoped>\n",
              "    .dataframe tbody tr th:only-of-type {\n",
              "        vertical-align: middle;\n",
              "    }\n",
              "\n",
              "    .dataframe tbody tr th {\n",
              "        vertical-align: top;\n",
              "    }\n",
              "\n",
              "    .dataframe thead th {\n",
              "        text-align: right;\n",
              "    }\n",
              "</style>\n",
              "<table border=\"1\" class=\"dataframe\">\n",
              "  <thead>\n",
              "    <tr style=\"text-align: right;\">\n",
              "      <th></th>\n",
              "      <th>PassengerId</th>\n",
              "      <th>Survived</th>\n",
              "      <th>Pclass</th>\n",
              "      <th>Name</th>\n",
              "      <th>Sex</th>\n",
              "      <th>Age</th>\n",
              "      <th>SibSp</th>\n",
              "      <th>Parch</th>\n",
              "      <th>Ticket</th>\n",
              "      <th>Fare</th>\n",
              "      <th>Cabin</th>\n",
              "      <th>Embarked</th>\n",
              "      <th>Deck</th>\n",
              "    </tr>\n",
              "  </thead>\n",
              "  <tbody>\n",
              "    <tr>\n",
              "      <th>339</th>\n",
              "      <td>340</td>\n",
              "      <td>0.0</td>\n",
              "      <td>1</td>\n",
              "      <td>Blackwell, Mr. Stephen Weart</td>\n",
              "      <td>male</td>\n",
              "      <td>(32.0, 48.0]</td>\n",
              "      <td>0</td>\n",
              "      <td>0</td>\n",
              "      <td>113784</td>\n",
              "      <td>(21.558, 41.579]</td>\n",
              "      <td>T</td>\n",
              "      <td>S</td>\n",
              "      <td>T</td>\n",
              "    </tr>\n",
              "  </tbody>\n",
              "</table>\n",
              "</div>"
            ],
            "text/plain": [
              "     PassengerId  Survived  Pclass  ... Cabin Embarked Deck\n",
              "339          340       0.0       1  ...     T        S    T\n",
              "\n",
              "[1 rows x 13 columns]"
            ]
          },
          "metadata": {
            "tags": []
          },
          "execution_count": 189
        }
      ]
    },
    {
      "cell_type": "code",
      "metadata": {
        "id": "S6hECbhPV7lt"
      },
      "source": [
        "idx = titanic[titanic['Deck'] == 'T'].index\r\n",
        "titanic.loc[idx, 'Deck'] = 'A'"
      ],
      "execution_count": null,
      "outputs": []
    },
    {
      "cell_type": "code",
      "metadata": {
        "colab": {
          "base_uri": "https://localhost:8080/"
        },
        "id": "3a-L6FWaWDte",
        "outputId": "6d105133-02a9-45a9-ad47-72451a7b4049"
      },
      "source": [
        "titanic['Deck'] = titanic['Deck'].replace(['A', 'B', 'C'], 'ABC')\r\n",
        "titanic['Deck'] = titanic['Deck'].replace(['D', 'E'], 'DE')\r\n",
        "titanic['Deck'] = titanic['Deck'].replace(['F', 'G'], 'FG')\r\n",
        "\r\n",
        "titanic['Deck'].value_counts()"
      ],
      "execution_count": null,
      "outputs": [
        {
          "output_type": "execute_result",
          "data": {
            "text/plain": [
              "M      1014\n",
              "ABC     182\n",
              "DE       87\n",
              "FG       26\n",
              "Name: Deck, dtype: int64"
            ]
          },
          "metadata": {
            "tags": []
          },
          "execution_count": 191
        }
      ]
    },
    {
      "cell_type": "code",
      "metadata": {
        "id": "wFgb0ka1Yr2y"
      },
      "source": [
        "titanic.loc[(titanic['Pclass']==1) & (titanic['Deck']=='M'), 'Deck'] = 'ABC'\r\n",
        "titanic.loc[(titanic['Pclass']==2) & (titanic['Deck']=='M'), 'Deck'] = 'DE'\r\n",
        "titanic.loc[(titanic['Pclass']==3) & (titanic['Deck']=='M'), 'Deck'] = 'FG'"
      ],
      "execution_count": null,
      "outputs": []
    },
    {
      "cell_type": "markdown",
      "metadata": {
        "id": "nvbaJ9INe9pD"
      },
      "source": [
        "4.Ticket"
      ]
    },
    {
      "cell_type": "code",
      "metadata": {
        "id": "Q0_u6dJOe5xK"
      },
      "source": [
        "titanic['Ticket_type']=titanic['Ticket'].apply(lambda x: x[0:3])\r\n",
        "titanic['Ticket_type']=titanic['Ticket_type'].astype('category')\r\n",
        "titanic['Ticket_type']=titanic['Ticket_type'].cat.codes"
      ],
      "execution_count": null,
      "outputs": []
    },
    {
      "cell_type": "code",
      "metadata": {
        "id": "OPKMzx_Ve6GM"
      },
      "source": [
        "titanic['Word_count']=titanic['Name'].apply(lambda x: len(x.split()))"
      ],
      "execution_count": null,
      "outputs": []
    },
    {
      "cell_type": "code",
      "metadata": {
        "id": "mjvFoyLth85y"
      },
      "source": [
        "titanic['Has_Cabin']=titanic['Cabin'].apply(lambda x: 0 if type(x)==float else 1)"
      ],
      "execution_count": null,
      "outputs": []
    },
    {
      "cell_type": "markdown",
      "metadata": {
        "id": "IVYA2lX2I-v5"
      },
      "source": [
        "5.Family_size"
      ]
    },
    {
      "cell_type": "code",
      "metadata": {
        "id": "Mx_E8l6aI-E5"
      },
      "source": [
        "titanic['Family_size'] = titanic['SibSp'] + titanic['Parch'] + 1"
      ],
      "execution_count": null,
      "outputs": []
    },
    {
      "cell_type": "code",
      "metadata": {
        "id": "L7qsk3lHh8d_"
      },
      "source": [
        "titanic['isalone']=titanic['Family_size'].apply(lambda x: 0 if x>1 else 1)"
      ],
      "execution_count": null,
      "outputs": []
    },
    {
      "cell_type": "code",
      "metadata": {
        "id": "Ydc5d05GivDr"
      },
      "source": [
        "def get_title(name):\r\n",
        "    title_search=re.search(' ([A-Za-z]+)\\.', name)\r\n",
        "    if title_search:\r\n",
        "      return title_search.group(1)\r\n",
        "    else:\r\n",
        "      return \"\""
      ],
      "execution_count": null,
      "outputs": []
    },
    {
      "cell_type": "code",
      "metadata": {
        "id": "2C-RJuTajV-A"
      },
      "source": [
        "titanic['Title']=titanic['Name'].apply(get_title)"
      ],
      "execution_count": null,
      "outputs": []
    },
    {
      "cell_type": "code",
      "metadata": {
        "id": "5aKaz6KBjWGe"
      },
      "source": [
        "replace_to_rare=['Lady', 'Countess','Capt', 'Col','Don', 'Dr', 'Major', 'Rev', 'Sir', 'Jonkheer', 'Dona']\r\n",
        "replace_by_rule={'Mlle': 'Miss', 'Ms': 'Miss', 'Mme': 'Mrs'}\r\n",
        "\r\n",
        "titanic['Title'] = titanic['Title'].replace(replace_to_rare, 'Rare')\r\n",
        "titanic['Title'] = titanic['Title'].replace(replace_by_rule)"
      ],
      "execution_count": null,
      "outputs": []
    },
    {
      "cell_type": "code",
      "metadata": {
        "id": "Lc_Pej4tW_io"
      },
      "source": [
        "from sklearn.model_selection import train_test_split"
      ],
      "execution_count": null,
      "outputs": []
    },
    {
      "cell_type": "code",
      "metadata": {
        "colab": {
          "base_uri": "https://localhost:8080/",
          "height": 860
        },
        "id": "LuLqBkepj5Ln",
        "outputId": "6dc362e6-dbcd-4930-a698-c9494f3a5665"
      },
      "source": [
        "titanic"
      ],
      "execution_count": null,
      "outputs": [
        {
          "output_type": "execute_result",
          "data": {
            "text/html": [
              "<div>\n",
              "<style scoped>\n",
              "    .dataframe tbody tr th:only-of-type {\n",
              "        vertical-align: middle;\n",
              "    }\n",
              "\n",
              "    .dataframe tbody tr th {\n",
              "        vertical-align: top;\n",
              "    }\n",
              "\n",
              "    .dataframe thead th {\n",
              "        text-align: right;\n",
              "    }\n",
              "</style>\n",
              "<table border=\"1\" class=\"dataframe\">\n",
              "  <thead>\n",
              "    <tr style=\"text-align: right;\">\n",
              "      <th></th>\n",
              "      <th>PassengerId</th>\n",
              "      <th>Survived</th>\n",
              "      <th>Pclass</th>\n",
              "      <th>Name</th>\n",
              "      <th>Sex</th>\n",
              "      <th>Age</th>\n",
              "      <th>SibSp</th>\n",
              "      <th>Parch</th>\n",
              "      <th>Ticket</th>\n",
              "      <th>Fare</th>\n",
              "      <th>Cabin</th>\n",
              "      <th>Embarked</th>\n",
              "      <th>Deck</th>\n",
              "      <th>Ticket_type</th>\n",
              "      <th>Word_count</th>\n",
              "      <th>Has_Cabin</th>\n",
              "      <th>Family_size</th>\n",
              "      <th>isalone</th>\n",
              "      <th>Title</th>\n",
              "    </tr>\n",
              "  </thead>\n",
              "  <tbody>\n",
              "    <tr>\n",
              "      <th>0</th>\n",
              "      <td>1</td>\n",
              "      <td>0.0</td>\n",
              "      <td>3</td>\n",
              "      <td>Braund, Mr. Owen Harris</td>\n",
              "      <td>male</td>\n",
              "      <td>(16.0, 32.0]</td>\n",
              "      <td>1</td>\n",
              "      <td>0</td>\n",
              "      <td>A/5 21171</td>\n",
              "      <td>(-0.001, 7.854]</td>\n",
              "      <td>NaN</td>\n",
              "      <td>S</td>\n",
              "      <td>FG</td>\n",
              "      <td>139</td>\n",
              "      <td>4</td>\n",
              "      <td>0</td>\n",
              "      <td>2</td>\n",
              "      <td>0</td>\n",
              "      <td>Mr</td>\n",
              "    </tr>\n",
              "    <tr>\n",
              "      <th>1</th>\n",
              "      <td>2</td>\n",
              "      <td>1.0</td>\n",
              "      <td>1</td>\n",
              "      <td>Cumings, Mrs. John Bradley (Florence Briggs Th...</td>\n",
              "      <td>female</td>\n",
              "      <td>(32.0, 48.0]</td>\n",
              "      <td>1</td>\n",
              "      <td>0</td>\n",
              "      <td>PC 17599</td>\n",
              "      <td>(41.579, 512.329]</td>\n",
              "      <td>C85</td>\n",
              "      <td>C</td>\n",
              "      <td>ABC</td>\n",
              "      <td>154</td>\n",
              "      <td>7</td>\n",
              "      <td>1</td>\n",
              "      <td>2</td>\n",
              "      <td>0</td>\n",
              "      <td>Mrs</td>\n",
              "    </tr>\n",
              "    <tr>\n",
              "      <th>2</th>\n",
              "      <td>3</td>\n",
              "      <td>1.0</td>\n",
              "      <td>3</td>\n",
              "      <td>Heikkinen, Miss. Laina</td>\n",
              "      <td>female</td>\n",
              "      <td>(16.0, 32.0]</td>\n",
              "      <td>0</td>\n",
              "      <td>0</td>\n",
              "      <td>STON/O2. 3101282</td>\n",
              "      <td>(7.854, 10.5]</td>\n",
              "      <td>NaN</td>\n",
              "      <td>S</td>\n",
              "      <td>FG</td>\n",
              "      <td>165</td>\n",
              "      <td>3</td>\n",
              "      <td>0</td>\n",
              "      <td>1</td>\n",
              "      <td>1</td>\n",
              "      <td>Miss</td>\n",
              "    </tr>\n",
              "    <tr>\n",
              "      <th>3</th>\n",
              "      <td>4</td>\n",
              "      <td>1.0</td>\n",
              "      <td>1</td>\n",
              "      <td>Futrelle, Mrs. Jacques Heath (Lily May Peel)</td>\n",
              "      <td>female</td>\n",
              "      <td>(32.0, 48.0]</td>\n",
              "      <td>1</td>\n",
              "      <td>0</td>\n",
              "      <td>113803</td>\n",
              "      <td>(41.579, 512.329]</td>\n",
              "      <td>C123</td>\n",
              "      <td>S</td>\n",
              "      <td>ABC</td>\n",
              "      <td>3</td>\n",
              "      <td>7</td>\n",
              "      <td>1</td>\n",
              "      <td>2</td>\n",
              "      <td>0</td>\n",
              "      <td>Mrs</td>\n",
              "    </tr>\n",
              "    <tr>\n",
              "      <th>4</th>\n",
              "      <td>5</td>\n",
              "      <td>0.0</td>\n",
              "      <td>3</td>\n",
              "      <td>Allen, Mr. William Henry</td>\n",
              "      <td>male</td>\n",
              "      <td>(32.0, 48.0]</td>\n",
              "      <td>0</td>\n",
              "      <td>0</td>\n",
              "      <td>373450</td>\n",
              "      <td>(7.854, 10.5]</td>\n",
              "      <td>NaN</td>\n",
              "      <td>S</td>\n",
              "      <td>FG</td>\n",
              "      <td>108</td>\n",
              "      <td>4</td>\n",
              "      <td>0</td>\n",
              "      <td>1</td>\n",
              "      <td>1</td>\n",
              "      <td>Mr</td>\n",
              "    </tr>\n",
              "    <tr>\n",
              "      <th>...</th>\n",
              "      <td>...</td>\n",
              "      <td>...</td>\n",
              "      <td>...</td>\n",
              "      <td>...</td>\n",
              "      <td>...</td>\n",
              "      <td>...</td>\n",
              "      <td>...</td>\n",
              "      <td>...</td>\n",
              "      <td>...</td>\n",
              "      <td>...</td>\n",
              "      <td>...</td>\n",
              "      <td>...</td>\n",
              "      <td>...</td>\n",
              "      <td>...</td>\n",
              "      <td>...</td>\n",
              "      <td>...</td>\n",
              "      <td>...</td>\n",
              "      <td>...</td>\n",
              "      <td>...</td>\n",
              "    </tr>\n",
              "    <tr>\n",
              "      <th>1304</th>\n",
              "      <td>1305</td>\n",
              "      <td>NaN</td>\n",
              "      <td>3</td>\n",
              "      <td>Spector, Mr. Woolf</td>\n",
              "      <td>male</td>\n",
              "      <td>(16.0, 32.0]</td>\n",
              "      <td>0</td>\n",
              "      <td>0</td>\n",
              "      <td>A.5. 3236</td>\n",
              "      <td>(7.854, 10.5]</td>\n",
              "      <td>NaN</td>\n",
              "      <td>S</td>\n",
              "      <td>FG</td>\n",
              "      <td>137</td>\n",
              "      <td>3</td>\n",
              "      <td>0</td>\n",
              "      <td>1</td>\n",
              "      <td>1</td>\n",
              "      <td>Mr</td>\n",
              "    </tr>\n",
              "    <tr>\n",
              "      <th>1305</th>\n",
              "      <td>1306</td>\n",
              "      <td>NaN</td>\n",
              "      <td>1</td>\n",
              "      <td>Oliva y Ocana, Dona. Fermina</td>\n",
              "      <td>female</td>\n",
              "      <td>(32.0, 48.0]</td>\n",
              "      <td>0</td>\n",
              "      <td>0</td>\n",
              "      <td>PC 17758</td>\n",
              "      <td>(41.579, 512.329]</td>\n",
              "      <td>C105</td>\n",
              "      <td>C</td>\n",
              "      <td>ABC</td>\n",
              "      <td>154</td>\n",
              "      <td>5</td>\n",
              "      <td>1</td>\n",
              "      <td>1</td>\n",
              "      <td>1</td>\n",
              "      <td>Rare</td>\n",
              "    </tr>\n",
              "    <tr>\n",
              "      <th>1306</th>\n",
              "      <td>1307</td>\n",
              "      <td>NaN</td>\n",
              "      <td>3</td>\n",
              "      <td>Saether, Mr. Simon Sivertsen</td>\n",
              "      <td>male</td>\n",
              "      <td>(32.0, 48.0]</td>\n",
              "      <td>0</td>\n",
              "      <td>0</td>\n",
              "      <td>SOTON/O.Q. 3101262</td>\n",
              "      <td>(-0.001, 7.854]</td>\n",
              "      <td>NaN</td>\n",
              "      <td>S</td>\n",
              "      <td>FG</td>\n",
              "      <td>164</td>\n",
              "      <td>4</td>\n",
              "      <td>0</td>\n",
              "      <td>1</td>\n",
              "      <td>1</td>\n",
              "      <td>Mr</td>\n",
              "    </tr>\n",
              "    <tr>\n",
              "      <th>1307</th>\n",
              "      <td>1308</td>\n",
              "      <td>NaN</td>\n",
              "      <td>3</td>\n",
              "      <td>Ware, Mr. Frederick</td>\n",
              "      <td>male</td>\n",
              "      <td>(16.0, 32.0]</td>\n",
              "      <td>0</td>\n",
              "      <td>0</td>\n",
              "      <td>359309</td>\n",
              "      <td>(7.854, 10.5]</td>\n",
              "      <td>NaN</td>\n",
              "      <td>S</td>\n",
              "      <td>FG</td>\n",
              "      <td>96</td>\n",
              "      <td>3</td>\n",
              "      <td>0</td>\n",
              "      <td>1</td>\n",
              "      <td>1</td>\n",
              "      <td>Mr</td>\n",
              "    </tr>\n",
              "    <tr>\n",
              "      <th>1308</th>\n",
              "      <td>1309</td>\n",
              "      <td>NaN</td>\n",
              "      <td>3</td>\n",
              "      <td>Peter, Master. Michael J</td>\n",
              "      <td>male</td>\n",
              "      <td>(16.0, 32.0]</td>\n",
              "      <td>1</td>\n",
              "      <td>1</td>\n",
              "      <td>2668</td>\n",
              "      <td>(21.558, 41.579]</td>\n",
              "      <td>NaN</td>\n",
              "      <td>C</td>\n",
              "      <td>FG</td>\n",
              "      <td>57</td>\n",
              "      <td>4</td>\n",
              "      <td>0</td>\n",
              "      <td>3</td>\n",
              "      <td>0</td>\n",
              "      <td>Master</td>\n",
              "    </tr>\n",
              "  </tbody>\n",
              "</table>\n",
              "<p>1309 rows × 19 columns</p>\n",
              "</div>"
            ],
            "text/plain": [
              "      PassengerId  Survived  Pclass  ... Family_size isalone   Title\n",
              "0               1       0.0       3  ...           2       0      Mr\n",
              "1               2       1.0       1  ...           2       0     Mrs\n",
              "2               3       1.0       3  ...           1       1    Miss\n",
              "3               4       1.0       1  ...           2       0     Mrs\n",
              "4               5       0.0       3  ...           1       1      Mr\n",
              "...           ...       ...     ...  ...         ...     ...     ...\n",
              "1304         1305       NaN       3  ...           1       1      Mr\n",
              "1305         1306       NaN       1  ...           1       1    Rare\n",
              "1306         1307       NaN       3  ...           1       1      Mr\n",
              "1307         1308       NaN       3  ...           1       1      Mr\n",
              "1308         1309       NaN       3  ...           3       0  Master\n",
              "\n",
              "[1309 rows x 19 columns]"
            ]
          },
          "metadata": {
            "tags": []
          },
          "execution_count": 202
        }
      ]
    },
    {
      "cell_type": "code",
      "metadata": {
        "id": "S7JyjZaDk1ds"
      },
      "source": [
        "titanic['Sex'] = titanic['Sex'].astype('category')\r\n",
        "titanic['Sex'] = titanic['Sex'].cat.codes"
      ],
      "execution_count": null,
      "outputs": []
    },
    {
      "cell_type": "code",
      "metadata": {
        "id": "w4-znQPglfyX"
      },
      "source": [
        "titanic['Fare'] = titanic['Fare'].astype('category')\r\n",
        "titanic['Fare'] = titanic['Fare'].cat.codes"
      ],
      "execution_count": null,
      "outputs": []
    },
    {
      "cell_type": "code",
      "metadata": {
        "id": "3aju1ws4lpDz"
      },
      "source": [
        "titanic['Age'] = titanic['Age'].astype('category')\r\n",
        "titanic['Age'] = titanic['Age'].cat.codes"
      ],
      "execution_count": null,
      "outputs": []
    },
    {
      "cell_type": "code",
      "metadata": {
        "colab": {
          "base_uri": "https://localhost:8080/"
        },
        "id": "l3n3PEJ0mMnB",
        "outputId": "6362211b-da31-4c8c-aa88-8f69e5414e84"
      },
      "source": [
        "titanic['Embarked'].value_counts()"
      ],
      "execution_count": null,
      "outputs": [
        {
          "output_type": "execute_result",
          "data": {
            "text/plain": [
              "S    914\n",
              "C    270\n",
              "Q    123\n",
              "Name: Embarked, dtype: int64"
            ]
          },
          "metadata": {
            "tags": []
          },
          "execution_count": 206
        }
      ]
    },
    {
      "cell_type": "code",
      "metadata": {
        "id": "ud8Ki7AjmV5g"
      },
      "source": [
        "titanic['Embarked'] = titanic['Embarked'].fillna('S')"
      ],
      "execution_count": null,
      "outputs": []
    },
    {
      "cell_type": "code",
      "metadata": {
        "id": "72zfNJl7l6CR"
      },
      "source": [
        "titanic['Embarked'] = titanic['Embarked'].astype('category')\r\n",
        "titanic['Embarked'] = titanic['Embarked'].cat.codes"
      ],
      "execution_count": null,
      "outputs": []
    },
    {
      "cell_type": "code",
      "metadata": {
        "id": "HLx62rLXnSXA"
      },
      "source": [
        "titanic['Deck'] = titanic['Deck'].astype('category')\r\n",
        "titanic['Deck'] = titanic['Deck'].cat.codes"
      ],
      "execution_count": null,
      "outputs": []
    },
    {
      "cell_type": "code",
      "metadata": {
        "id": "A0O09TG2kc_Y"
      },
      "source": [
        "titanic['Title'] = titanic['Title'].astype('category')\r\n",
        "titanic['Title'] = titanic['Title'].cat.codes"
      ],
      "execution_count": null,
      "outputs": []
    },
    {
      "cell_type": "code",
      "metadata": {
        "id": "oFRB0aRNnd4C"
      },
      "source": [
        "titanic = titanic.drop(['PassengerId', 'Ticket', 'Cabin', 'Name'], axis=1)"
      ],
      "execution_count": null,
      "outputs": []
    },
    {
      "cell_type": "code",
      "metadata": {
        "id": "sTyRK8E0kNeV"
      },
      "source": [
        "train = titanic.loc[:890]\r\n",
        "test = titanic.loc[891:].drop(['Survived'], axis=1)"
      ],
      "execution_count": null,
      "outputs": []
    },
    {
      "cell_type": "code",
      "metadata": {
        "colab": {
          "base_uri": "https://localhost:8080/",
          "height": 408
        },
        "id": "8mJM6p17kga6",
        "outputId": "508e773e-79b0-4614-bf48-dde155f03607"
      },
      "source": [
        "train"
      ],
      "execution_count": null,
      "outputs": [
        {
          "output_type": "execute_result",
          "data": {
            "text/html": [
              "<div>\n",
              "<style scoped>\n",
              "    .dataframe tbody tr th:only-of-type {\n",
              "        vertical-align: middle;\n",
              "    }\n",
              "\n",
              "    .dataframe tbody tr th {\n",
              "        vertical-align: top;\n",
              "    }\n",
              "\n",
              "    .dataframe thead th {\n",
              "        text-align: right;\n",
              "    }\n",
              "</style>\n",
              "<table border=\"1\" class=\"dataframe\">\n",
              "  <thead>\n",
              "    <tr style=\"text-align: right;\">\n",
              "      <th></th>\n",
              "      <th>Survived</th>\n",
              "      <th>Pclass</th>\n",
              "      <th>Sex</th>\n",
              "      <th>Age</th>\n",
              "      <th>SibSp</th>\n",
              "      <th>Parch</th>\n",
              "      <th>Fare</th>\n",
              "      <th>Embarked</th>\n",
              "      <th>Deck</th>\n",
              "      <th>Ticket_type</th>\n",
              "      <th>Word_count</th>\n",
              "      <th>Has_Cabin</th>\n",
              "      <th>Family_size</th>\n",
              "      <th>isalone</th>\n",
              "      <th>Title</th>\n",
              "    </tr>\n",
              "  </thead>\n",
              "  <tbody>\n",
              "    <tr>\n",
              "      <th>0</th>\n",
              "      <td>0.0</td>\n",
              "      <td>3</td>\n",
              "      <td>1</td>\n",
              "      <td>1</td>\n",
              "      <td>1</td>\n",
              "      <td>0</td>\n",
              "      <td>0</td>\n",
              "      <td>2</td>\n",
              "      <td>2</td>\n",
              "      <td>139</td>\n",
              "      <td>4</td>\n",
              "      <td>0</td>\n",
              "      <td>2</td>\n",
              "      <td>0</td>\n",
              "      <td>2</td>\n",
              "    </tr>\n",
              "    <tr>\n",
              "      <th>1</th>\n",
              "      <td>1.0</td>\n",
              "      <td>1</td>\n",
              "      <td>0</td>\n",
              "      <td>2</td>\n",
              "      <td>1</td>\n",
              "      <td>0</td>\n",
              "      <td>4</td>\n",
              "      <td>0</td>\n",
              "      <td>0</td>\n",
              "      <td>154</td>\n",
              "      <td>7</td>\n",
              "      <td>1</td>\n",
              "      <td>2</td>\n",
              "      <td>0</td>\n",
              "      <td>3</td>\n",
              "    </tr>\n",
              "    <tr>\n",
              "      <th>2</th>\n",
              "      <td>1.0</td>\n",
              "      <td>3</td>\n",
              "      <td>0</td>\n",
              "      <td>1</td>\n",
              "      <td>0</td>\n",
              "      <td>0</td>\n",
              "      <td>1</td>\n",
              "      <td>2</td>\n",
              "      <td>2</td>\n",
              "      <td>165</td>\n",
              "      <td>3</td>\n",
              "      <td>0</td>\n",
              "      <td>1</td>\n",
              "      <td>1</td>\n",
              "      <td>1</td>\n",
              "    </tr>\n",
              "    <tr>\n",
              "      <th>3</th>\n",
              "      <td>1.0</td>\n",
              "      <td>1</td>\n",
              "      <td>0</td>\n",
              "      <td>2</td>\n",
              "      <td>1</td>\n",
              "      <td>0</td>\n",
              "      <td>4</td>\n",
              "      <td>2</td>\n",
              "      <td>0</td>\n",
              "      <td>3</td>\n",
              "      <td>7</td>\n",
              "      <td>1</td>\n",
              "      <td>2</td>\n",
              "      <td>0</td>\n",
              "      <td>3</td>\n",
              "    </tr>\n",
              "    <tr>\n",
              "      <th>4</th>\n",
              "      <td>0.0</td>\n",
              "      <td>3</td>\n",
              "      <td>1</td>\n",
              "      <td>2</td>\n",
              "      <td>0</td>\n",
              "      <td>0</td>\n",
              "      <td>1</td>\n",
              "      <td>2</td>\n",
              "      <td>2</td>\n",
              "      <td>108</td>\n",
              "      <td>4</td>\n",
              "      <td>0</td>\n",
              "      <td>1</td>\n",
              "      <td>1</td>\n",
              "      <td>2</td>\n",
              "    </tr>\n",
              "    <tr>\n",
              "      <th>...</th>\n",
              "      <td>...</td>\n",
              "      <td>...</td>\n",
              "      <td>...</td>\n",
              "      <td>...</td>\n",
              "      <td>...</td>\n",
              "      <td>...</td>\n",
              "      <td>...</td>\n",
              "      <td>...</td>\n",
              "      <td>...</td>\n",
              "      <td>...</td>\n",
              "      <td>...</td>\n",
              "      <td>...</td>\n",
              "      <td>...</td>\n",
              "      <td>...</td>\n",
              "      <td>...</td>\n",
              "    </tr>\n",
              "    <tr>\n",
              "      <th>886</th>\n",
              "      <td>0.0</td>\n",
              "      <td>2</td>\n",
              "      <td>1</td>\n",
              "      <td>1</td>\n",
              "      <td>0</td>\n",
              "      <td>0</td>\n",
              "      <td>2</td>\n",
              "      <td>2</td>\n",
              "      <td>1</td>\n",
              "      <td>25</td>\n",
              "      <td>3</td>\n",
              "      <td>0</td>\n",
              "      <td>1</td>\n",
              "      <td>1</td>\n",
              "      <td>4</td>\n",
              "    </tr>\n",
              "    <tr>\n",
              "      <th>887</th>\n",
              "      <td>1.0</td>\n",
              "      <td>1</td>\n",
              "      <td>0</td>\n",
              "      <td>1</td>\n",
              "      <td>0</td>\n",
              "      <td>0</td>\n",
              "      <td>3</td>\n",
              "      <td>2</td>\n",
              "      <td>0</td>\n",
              "      <td>2</td>\n",
              "      <td>4</td>\n",
              "      <td>1</td>\n",
              "      <td>1</td>\n",
              "      <td>1</td>\n",
              "      <td>1</td>\n",
              "    </tr>\n",
              "    <tr>\n",
              "      <th>888</th>\n",
              "      <td>0.0</td>\n",
              "      <td>3</td>\n",
              "      <td>0</td>\n",
              "      <td>1</td>\n",
              "      <td>1</td>\n",
              "      <td>2</td>\n",
              "      <td>3</td>\n",
              "      <td>2</td>\n",
              "      <td>2</td>\n",
              "      <td>167</td>\n",
              "      <td>5</td>\n",
              "      <td>0</td>\n",
              "      <td>4</td>\n",
              "      <td>0</td>\n",
              "      <td>1</td>\n",
              "    </tr>\n",
              "    <tr>\n",
              "      <th>889</th>\n",
              "      <td>1.0</td>\n",
              "      <td>1</td>\n",
              "      <td>1</td>\n",
              "      <td>1</td>\n",
              "      <td>0</td>\n",
              "      <td>0</td>\n",
              "      <td>3</td>\n",
              "      <td>0</td>\n",
              "      <td>0</td>\n",
              "      <td>1</td>\n",
              "      <td>4</td>\n",
              "      <td>1</td>\n",
              "      <td>1</td>\n",
              "      <td>1</td>\n",
              "      <td>2</td>\n",
              "    </tr>\n",
              "    <tr>\n",
              "      <th>890</th>\n",
              "      <td>0.0</td>\n",
              "      <td>3</td>\n",
              "      <td>1</td>\n",
              "      <td>1</td>\n",
              "      <td>0</td>\n",
              "      <td>0</td>\n",
              "      <td>0</td>\n",
              "      <td>1</td>\n",
              "      <td>2</td>\n",
              "      <td>105</td>\n",
              "      <td>3</td>\n",
              "      <td>0</td>\n",
              "      <td>1</td>\n",
              "      <td>1</td>\n",
              "      <td>2</td>\n",
              "    </tr>\n",
              "  </tbody>\n",
              "</table>\n",
              "<p>891 rows × 15 columns</p>\n",
              "</div>"
            ],
            "text/plain": [
              "     Survived  Pclass  Sex  Age  ...  Has_Cabin  Family_size  isalone  Title\n",
              "0         0.0       3    1    1  ...          0            2        0      2\n",
              "1         1.0       1    0    2  ...          1            2        0      3\n",
              "2         1.0       3    0    1  ...          0            1        1      1\n",
              "3         1.0       1    0    2  ...          1            2        0      3\n",
              "4         0.0       3    1    2  ...          0            1        1      2\n",
              "..        ...     ...  ...  ...  ...        ...          ...      ...    ...\n",
              "886       0.0       2    1    1  ...          0            1        1      4\n",
              "887       1.0       1    0    1  ...          1            1        1      1\n",
              "888       0.0       3    0    1  ...          0            4        0      1\n",
              "889       1.0       1    1    1  ...          1            1        1      2\n",
              "890       0.0       3    1    1  ...          0            1        1      2\n",
              "\n",
              "[891 rows x 15 columns]"
            ]
          },
          "metadata": {
            "tags": []
          },
          "execution_count": 215
        }
      ]
    },
    {
      "cell_type": "code",
      "metadata": {
        "colab": {
          "base_uri": "https://localhost:8080/",
          "height": 408
        },
        "id": "Yio0Md8HkmWq",
        "outputId": "805cc99b-69a2-4c88-a1da-6a8b63f872a5"
      },
      "source": [
        "test"
      ],
      "execution_count": null,
      "outputs": [
        {
          "output_type": "execute_result",
          "data": {
            "text/html": [
              "<div>\n",
              "<style scoped>\n",
              "    .dataframe tbody tr th:only-of-type {\n",
              "        vertical-align: middle;\n",
              "    }\n",
              "\n",
              "    .dataframe tbody tr th {\n",
              "        vertical-align: top;\n",
              "    }\n",
              "\n",
              "    .dataframe thead th {\n",
              "        text-align: right;\n",
              "    }\n",
              "</style>\n",
              "<table border=\"1\" class=\"dataframe\">\n",
              "  <thead>\n",
              "    <tr style=\"text-align: right;\">\n",
              "      <th></th>\n",
              "      <th>Pclass</th>\n",
              "      <th>Sex</th>\n",
              "      <th>Age</th>\n",
              "      <th>SibSp</th>\n",
              "      <th>Parch</th>\n",
              "      <th>Fare</th>\n",
              "      <th>Embarked</th>\n",
              "      <th>Deck</th>\n",
              "      <th>Ticket_type</th>\n",
              "      <th>Word_count</th>\n",
              "      <th>Has_Cabin</th>\n",
              "      <th>Family_size</th>\n",
              "      <th>isalone</th>\n",
              "      <th>Title</th>\n",
              "    </tr>\n",
              "  </thead>\n",
              "  <tbody>\n",
              "    <tr>\n",
              "      <th>891</th>\n",
              "      <td>3</td>\n",
              "      <td>1</td>\n",
              "      <td>2</td>\n",
              "      <td>0</td>\n",
              "      <td>0</td>\n",
              "      <td>0</td>\n",
              "      <td>1</td>\n",
              "      <td>2</td>\n",
              "      <td>81</td>\n",
              "      <td>3</td>\n",
              "      <td>0</td>\n",
              "      <td>1</td>\n",
              "      <td>1</td>\n",
              "      <td>2</td>\n",
              "    </tr>\n",
              "    <tr>\n",
              "      <th>892</th>\n",
              "      <td>3</td>\n",
              "      <td>0</td>\n",
              "      <td>2</td>\n",
              "      <td>1</td>\n",
              "      <td>0</td>\n",
              "      <td>0</td>\n",
              "      <td>2</td>\n",
              "      <td>2</td>\n",
              "      <td>98</td>\n",
              "      <td>5</td>\n",
              "      <td>0</td>\n",
              "      <td>2</td>\n",
              "      <td>0</td>\n",
              "      <td>3</td>\n",
              "    </tr>\n",
              "    <tr>\n",
              "      <th>893</th>\n",
              "      <td>2</td>\n",
              "      <td>1</td>\n",
              "      <td>3</td>\n",
              "      <td>0</td>\n",
              "      <td>0</td>\n",
              "      <td>1</td>\n",
              "      <td>1</td>\n",
              "      <td>1</td>\n",
              "      <td>45</td>\n",
              "      <td>4</td>\n",
              "      <td>0</td>\n",
              "      <td>1</td>\n",
              "      <td>1</td>\n",
              "      <td>2</td>\n",
              "    </tr>\n",
              "    <tr>\n",
              "      <th>894</th>\n",
              "      <td>3</td>\n",
              "      <td>1</td>\n",
              "      <td>1</td>\n",
              "      <td>0</td>\n",
              "      <td>0</td>\n",
              "      <td>1</td>\n",
              "      <td>2</td>\n",
              "      <td>2</td>\n",
              "      <td>77</td>\n",
              "      <td>3</td>\n",
              "      <td>0</td>\n",
              "      <td>1</td>\n",
              "      <td>1</td>\n",
              "      <td>2</td>\n",
              "    </tr>\n",
              "    <tr>\n",
              "      <th>895</th>\n",
              "      <td>3</td>\n",
              "      <td>0</td>\n",
              "      <td>1</td>\n",
              "      <td>1</td>\n",
              "      <td>1</td>\n",
              "      <td>2</td>\n",
              "      <td>2</td>\n",
              "      <td>2</td>\n",
              "      <td>74</td>\n",
              "      <td>6</td>\n",
              "      <td>0</td>\n",
              "      <td>3</td>\n",
              "      <td>0</td>\n",
              "      <td>3</td>\n",
              "    </tr>\n",
              "    <tr>\n",
              "      <th>...</th>\n",
              "      <td>...</td>\n",
              "      <td>...</td>\n",
              "      <td>...</td>\n",
              "      <td>...</td>\n",
              "      <td>...</td>\n",
              "      <td>...</td>\n",
              "      <td>...</td>\n",
              "      <td>...</td>\n",
              "      <td>...</td>\n",
              "      <td>...</td>\n",
              "      <td>...</td>\n",
              "      <td>...</td>\n",
              "      <td>...</td>\n",
              "      <td>...</td>\n",
              "    </tr>\n",
              "    <tr>\n",
              "      <th>1304</th>\n",
              "      <td>3</td>\n",
              "      <td>1</td>\n",
              "      <td>1</td>\n",
              "      <td>0</td>\n",
              "      <td>0</td>\n",
              "      <td>1</td>\n",
              "      <td>2</td>\n",
              "      <td>2</td>\n",
              "      <td>137</td>\n",
              "      <td>3</td>\n",
              "      <td>0</td>\n",
              "      <td>1</td>\n",
              "      <td>1</td>\n",
              "      <td>2</td>\n",
              "    </tr>\n",
              "    <tr>\n",
              "      <th>1305</th>\n",
              "      <td>1</td>\n",
              "      <td>0</td>\n",
              "      <td>2</td>\n",
              "      <td>0</td>\n",
              "      <td>0</td>\n",
              "      <td>4</td>\n",
              "      <td>0</td>\n",
              "      <td>0</td>\n",
              "      <td>154</td>\n",
              "      <td>5</td>\n",
              "      <td>1</td>\n",
              "      <td>1</td>\n",
              "      <td>1</td>\n",
              "      <td>4</td>\n",
              "    </tr>\n",
              "    <tr>\n",
              "      <th>1306</th>\n",
              "      <td>3</td>\n",
              "      <td>1</td>\n",
              "      <td>2</td>\n",
              "      <td>0</td>\n",
              "      <td>0</td>\n",
              "      <td>0</td>\n",
              "      <td>2</td>\n",
              "      <td>2</td>\n",
              "      <td>164</td>\n",
              "      <td>4</td>\n",
              "      <td>0</td>\n",
              "      <td>1</td>\n",
              "      <td>1</td>\n",
              "      <td>2</td>\n",
              "    </tr>\n",
              "    <tr>\n",
              "      <th>1307</th>\n",
              "      <td>3</td>\n",
              "      <td>1</td>\n",
              "      <td>1</td>\n",
              "      <td>0</td>\n",
              "      <td>0</td>\n",
              "      <td>1</td>\n",
              "      <td>2</td>\n",
              "      <td>2</td>\n",
              "      <td>96</td>\n",
              "      <td>3</td>\n",
              "      <td>0</td>\n",
              "      <td>1</td>\n",
              "      <td>1</td>\n",
              "      <td>2</td>\n",
              "    </tr>\n",
              "    <tr>\n",
              "      <th>1308</th>\n",
              "      <td>3</td>\n",
              "      <td>1</td>\n",
              "      <td>1</td>\n",
              "      <td>1</td>\n",
              "      <td>1</td>\n",
              "      <td>3</td>\n",
              "      <td>0</td>\n",
              "      <td>2</td>\n",
              "      <td>57</td>\n",
              "      <td>4</td>\n",
              "      <td>0</td>\n",
              "      <td>3</td>\n",
              "      <td>0</td>\n",
              "      <td>0</td>\n",
              "    </tr>\n",
              "  </tbody>\n",
              "</table>\n",
              "<p>418 rows × 14 columns</p>\n",
              "</div>"
            ],
            "text/plain": [
              "      Pclass  Sex  Age  SibSp  ...  Has_Cabin  Family_size  isalone  Title\n",
              "891        3    1    2      0  ...          0            1        1      2\n",
              "892        3    0    2      1  ...          0            2        0      3\n",
              "893        2    1    3      0  ...          0            1        1      2\n",
              "894        3    1    1      0  ...          0            1        1      2\n",
              "895        3    0    1      1  ...          0            3        0      3\n",
              "...      ...  ...  ...    ...  ...        ...          ...      ...    ...\n",
              "1304       3    1    1      0  ...          0            1        1      2\n",
              "1305       1    0    2      0  ...          1            1        1      4\n",
              "1306       3    1    2      0  ...          0            1        1      2\n",
              "1307       3    1    1      0  ...          0            1        1      2\n",
              "1308       3    1    1      1  ...          0            3        0      0\n",
              "\n",
              "[418 rows x 14 columns]"
            ]
          },
          "metadata": {
            "tags": []
          },
          "execution_count": 216
        }
      ]
    },
    {
      "cell_type": "code",
      "metadata": {
        "id": "Tnwi8UnMoHr1"
      },
      "source": [
        "x = train.drop(['Survived'], axis=1)\r\n",
        "y = train['Survived']"
      ],
      "execution_count": null,
      "outputs": []
    },
    {
      "cell_type": "code",
      "metadata": {
        "id": "_trZeT_CBVJw"
      },
      "source": [
        "#x = pd.get_dummies(x, columns=x.columns)"
      ],
      "execution_count": null,
      "outputs": []
    },
    {
      "cell_type": "code",
      "metadata": {
        "id": "rSuCB4_JGmbr"
      },
      "source": [
        "#test = pd.get_dummies(test, columns=test.columns)"
      ],
      "execution_count": null,
      "outputs": []
    },
    {
      "cell_type": "code",
      "metadata": {
        "colab": {
          "base_uri": "https://localhost:8080/",
          "height": 408
        },
        "id": "dT1enpIeEUXp",
        "outputId": "27938675-6f47-4921-b076-f6babe5a8216"
      },
      "source": [
        "x"
      ],
      "execution_count": null,
      "outputs": [
        {
          "output_type": "execute_result",
          "data": {
            "text/html": [
              "<div>\n",
              "<style scoped>\n",
              "    .dataframe tbody tr th:only-of-type {\n",
              "        vertical-align: middle;\n",
              "    }\n",
              "\n",
              "    .dataframe tbody tr th {\n",
              "        vertical-align: top;\n",
              "    }\n",
              "\n",
              "    .dataframe thead th {\n",
              "        text-align: right;\n",
              "    }\n",
              "</style>\n",
              "<table border=\"1\" class=\"dataframe\">\n",
              "  <thead>\n",
              "    <tr style=\"text-align: right;\">\n",
              "      <th></th>\n",
              "      <th>Pclass</th>\n",
              "      <th>Sex</th>\n",
              "      <th>Age</th>\n",
              "      <th>SibSp</th>\n",
              "      <th>Parch</th>\n",
              "      <th>Fare</th>\n",
              "      <th>Embarked</th>\n",
              "      <th>Deck</th>\n",
              "      <th>Ticket_type</th>\n",
              "      <th>Word_count</th>\n",
              "      <th>Has_Cabin</th>\n",
              "      <th>Family_size</th>\n",
              "      <th>isalone</th>\n",
              "      <th>Title</th>\n",
              "    </tr>\n",
              "  </thead>\n",
              "  <tbody>\n",
              "    <tr>\n",
              "      <th>0</th>\n",
              "      <td>3</td>\n",
              "      <td>1</td>\n",
              "      <td>1</td>\n",
              "      <td>1</td>\n",
              "      <td>0</td>\n",
              "      <td>0</td>\n",
              "      <td>2</td>\n",
              "      <td>2</td>\n",
              "      <td>139</td>\n",
              "      <td>4</td>\n",
              "      <td>0</td>\n",
              "      <td>2</td>\n",
              "      <td>0</td>\n",
              "      <td>2</td>\n",
              "    </tr>\n",
              "    <tr>\n",
              "      <th>1</th>\n",
              "      <td>1</td>\n",
              "      <td>0</td>\n",
              "      <td>2</td>\n",
              "      <td>1</td>\n",
              "      <td>0</td>\n",
              "      <td>4</td>\n",
              "      <td>0</td>\n",
              "      <td>0</td>\n",
              "      <td>154</td>\n",
              "      <td>7</td>\n",
              "      <td>1</td>\n",
              "      <td>2</td>\n",
              "      <td>0</td>\n",
              "      <td>3</td>\n",
              "    </tr>\n",
              "    <tr>\n",
              "      <th>2</th>\n",
              "      <td>3</td>\n",
              "      <td>0</td>\n",
              "      <td>1</td>\n",
              "      <td>0</td>\n",
              "      <td>0</td>\n",
              "      <td>1</td>\n",
              "      <td>2</td>\n",
              "      <td>2</td>\n",
              "      <td>165</td>\n",
              "      <td>3</td>\n",
              "      <td>0</td>\n",
              "      <td>1</td>\n",
              "      <td>1</td>\n",
              "      <td>1</td>\n",
              "    </tr>\n",
              "    <tr>\n",
              "      <th>3</th>\n",
              "      <td>1</td>\n",
              "      <td>0</td>\n",
              "      <td>2</td>\n",
              "      <td>1</td>\n",
              "      <td>0</td>\n",
              "      <td>4</td>\n",
              "      <td>2</td>\n",
              "      <td>0</td>\n",
              "      <td>3</td>\n",
              "      <td>7</td>\n",
              "      <td>1</td>\n",
              "      <td>2</td>\n",
              "      <td>0</td>\n",
              "      <td>3</td>\n",
              "    </tr>\n",
              "    <tr>\n",
              "      <th>4</th>\n",
              "      <td>3</td>\n",
              "      <td>1</td>\n",
              "      <td>2</td>\n",
              "      <td>0</td>\n",
              "      <td>0</td>\n",
              "      <td>1</td>\n",
              "      <td>2</td>\n",
              "      <td>2</td>\n",
              "      <td>108</td>\n",
              "      <td>4</td>\n",
              "      <td>0</td>\n",
              "      <td>1</td>\n",
              "      <td>1</td>\n",
              "      <td>2</td>\n",
              "    </tr>\n",
              "    <tr>\n",
              "      <th>...</th>\n",
              "      <td>...</td>\n",
              "      <td>...</td>\n",
              "      <td>...</td>\n",
              "      <td>...</td>\n",
              "      <td>...</td>\n",
              "      <td>...</td>\n",
              "      <td>...</td>\n",
              "      <td>...</td>\n",
              "      <td>...</td>\n",
              "      <td>...</td>\n",
              "      <td>...</td>\n",
              "      <td>...</td>\n",
              "      <td>...</td>\n",
              "      <td>...</td>\n",
              "    </tr>\n",
              "    <tr>\n",
              "      <th>886</th>\n",
              "      <td>2</td>\n",
              "      <td>1</td>\n",
              "      <td>1</td>\n",
              "      <td>0</td>\n",
              "      <td>0</td>\n",
              "      <td>2</td>\n",
              "      <td>2</td>\n",
              "      <td>1</td>\n",
              "      <td>25</td>\n",
              "      <td>3</td>\n",
              "      <td>0</td>\n",
              "      <td>1</td>\n",
              "      <td>1</td>\n",
              "      <td>4</td>\n",
              "    </tr>\n",
              "    <tr>\n",
              "      <th>887</th>\n",
              "      <td>1</td>\n",
              "      <td>0</td>\n",
              "      <td>1</td>\n",
              "      <td>0</td>\n",
              "      <td>0</td>\n",
              "      <td>3</td>\n",
              "      <td>2</td>\n",
              "      <td>0</td>\n",
              "      <td>2</td>\n",
              "      <td>4</td>\n",
              "      <td>1</td>\n",
              "      <td>1</td>\n",
              "      <td>1</td>\n",
              "      <td>1</td>\n",
              "    </tr>\n",
              "    <tr>\n",
              "      <th>888</th>\n",
              "      <td>3</td>\n",
              "      <td>0</td>\n",
              "      <td>1</td>\n",
              "      <td>1</td>\n",
              "      <td>2</td>\n",
              "      <td>3</td>\n",
              "      <td>2</td>\n",
              "      <td>2</td>\n",
              "      <td>167</td>\n",
              "      <td>5</td>\n",
              "      <td>0</td>\n",
              "      <td>4</td>\n",
              "      <td>0</td>\n",
              "      <td>1</td>\n",
              "    </tr>\n",
              "    <tr>\n",
              "      <th>889</th>\n",
              "      <td>1</td>\n",
              "      <td>1</td>\n",
              "      <td>1</td>\n",
              "      <td>0</td>\n",
              "      <td>0</td>\n",
              "      <td>3</td>\n",
              "      <td>0</td>\n",
              "      <td>0</td>\n",
              "      <td>1</td>\n",
              "      <td>4</td>\n",
              "      <td>1</td>\n",
              "      <td>1</td>\n",
              "      <td>1</td>\n",
              "      <td>2</td>\n",
              "    </tr>\n",
              "    <tr>\n",
              "      <th>890</th>\n",
              "      <td>3</td>\n",
              "      <td>1</td>\n",
              "      <td>1</td>\n",
              "      <td>0</td>\n",
              "      <td>0</td>\n",
              "      <td>0</td>\n",
              "      <td>1</td>\n",
              "      <td>2</td>\n",
              "      <td>105</td>\n",
              "      <td>3</td>\n",
              "      <td>0</td>\n",
              "      <td>1</td>\n",
              "      <td>1</td>\n",
              "      <td>2</td>\n",
              "    </tr>\n",
              "  </tbody>\n",
              "</table>\n",
              "<p>891 rows × 14 columns</p>\n",
              "</div>"
            ],
            "text/plain": [
              "     Pclass  Sex  Age  SibSp  ...  Has_Cabin  Family_size  isalone  Title\n",
              "0         3    1    1      1  ...          0            2        0      2\n",
              "1         1    0    2      1  ...          1            2        0      3\n",
              "2         3    0    1      0  ...          0            1        1      1\n",
              "3         1    0    2      1  ...          1            2        0      3\n",
              "4         3    1    2      0  ...          0            1        1      2\n",
              "..      ...  ...  ...    ...  ...        ...          ...      ...    ...\n",
              "886       2    1    1      0  ...          0            1        1      4\n",
              "887       1    0    1      0  ...          1            1        1      1\n",
              "888       3    0    1      1  ...          0            4        0      1\n",
              "889       1    1    1      0  ...          1            1        1      2\n",
              "890       3    1    1      0  ...          0            1        1      2\n",
              "\n",
              "[891 rows x 14 columns]"
            ]
          },
          "metadata": {
            "tags": []
          },
          "execution_count": 259
        }
      ]
    },
    {
      "cell_type": "code",
      "metadata": {
        "colab": {
          "base_uri": "https://localhost:8080/",
          "height": 408
        },
        "id": "y_4gwerxHapz",
        "outputId": "c9739d1f-80ff-4652-ab18-29a2c31d45f8"
      },
      "source": [
        "test"
      ],
      "execution_count": null,
      "outputs": [
        {
          "output_type": "execute_result",
          "data": {
            "text/html": [
              "<div>\n",
              "<style scoped>\n",
              "    .dataframe tbody tr th:only-of-type {\n",
              "        vertical-align: middle;\n",
              "    }\n",
              "\n",
              "    .dataframe tbody tr th {\n",
              "        vertical-align: top;\n",
              "    }\n",
              "\n",
              "    .dataframe thead th {\n",
              "        text-align: right;\n",
              "    }\n",
              "</style>\n",
              "<table border=\"1\" class=\"dataframe\">\n",
              "  <thead>\n",
              "    <tr style=\"text-align: right;\">\n",
              "      <th></th>\n",
              "      <th>Pclass</th>\n",
              "      <th>Sex</th>\n",
              "      <th>Age</th>\n",
              "      <th>SibSp</th>\n",
              "      <th>Parch</th>\n",
              "      <th>Fare</th>\n",
              "      <th>Embarked</th>\n",
              "      <th>Deck</th>\n",
              "      <th>Ticket_type</th>\n",
              "      <th>Word_count</th>\n",
              "      <th>Has_Cabin</th>\n",
              "      <th>Family_size</th>\n",
              "      <th>isalone</th>\n",
              "      <th>Title</th>\n",
              "    </tr>\n",
              "  </thead>\n",
              "  <tbody>\n",
              "    <tr>\n",
              "      <th>891</th>\n",
              "      <td>3</td>\n",
              "      <td>1</td>\n",
              "      <td>2</td>\n",
              "      <td>0</td>\n",
              "      <td>0</td>\n",
              "      <td>0</td>\n",
              "      <td>1</td>\n",
              "      <td>2</td>\n",
              "      <td>81</td>\n",
              "      <td>3</td>\n",
              "      <td>0</td>\n",
              "      <td>1</td>\n",
              "      <td>1</td>\n",
              "      <td>2</td>\n",
              "    </tr>\n",
              "    <tr>\n",
              "      <th>892</th>\n",
              "      <td>3</td>\n",
              "      <td>0</td>\n",
              "      <td>2</td>\n",
              "      <td>1</td>\n",
              "      <td>0</td>\n",
              "      <td>0</td>\n",
              "      <td>2</td>\n",
              "      <td>2</td>\n",
              "      <td>98</td>\n",
              "      <td>5</td>\n",
              "      <td>0</td>\n",
              "      <td>2</td>\n",
              "      <td>0</td>\n",
              "      <td>3</td>\n",
              "    </tr>\n",
              "    <tr>\n",
              "      <th>893</th>\n",
              "      <td>2</td>\n",
              "      <td>1</td>\n",
              "      <td>3</td>\n",
              "      <td>0</td>\n",
              "      <td>0</td>\n",
              "      <td>1</td>\n",
              "      <td>1</td>\n",
              "      <td>1</td>\n",
              "      <td>45</td>\n",
              "      <td>4</td>\n",
              "      <td>0</td>\n",
              "      <td>1</td>\n",
              "      <td>1</td>\n",
              "      <td>2</td>\n",
              "    </tr>\n",
              "    <tr>\n",
              "      <th>894</th>\n",
              "      <td>3</td>\n",
              "      <td>1</td>\n",
              "      <td>1</td>\n",
              "      <td>0</td>\n",
              "      <td>0</td>\n",
              "      <td>1</td>\n",
              "      <td>2</td>\n",
              "      <td>2</td>\n",
              "      <td>77</td>\n",
              "      <td>3</td>\n",
              "      <td>0</td>\n",
              "      <td>1</td>\n",
              "      <td>1</td>\n",
              "      <td>2</td>\n",
              "    </tr>\n",
              "    <tr>\n",
              "      <th>895</th>\n",
              "      <td>3</td>\n",
              "      <td>0</td>\n",
              "      <td>1</td>\n",
              "      <td>1</td>\n",
              "      <td>1</td>\n",
              "      <td>2</td>\n",
              "      <td>2</td>\n",
              "      <td>2</td>\n",
              "      <td>74</td>\n",
              "      <td>6</td>\n",
              "      <td>0</td>\n",
              "      <td>3</td>\n",
              "      <td>0</td>\n",
              "      <td>3</td>\n",
              "    </tr>\n",
              "    <tr>\n",
              "      <th>...</th>\n",
              "      <td>...</td>\n",
              "      <td>...</td>\n",
              "      <td>...</td>\n",
              "      <td>...</td>\n",
              "      <td>...</td>\n",
              "      <td>...</td>\n",
              "      <td>...</td>\n",
              "      <td>...</td>\n",
              "      <td>...</td>\n",
              "      <td>...</td>\n",
              "      <td>...</td>\n",
              "      <td>...</td>\n",
              "      <td>...</td>\n",
              "      <td>...</td>\n",
              "    </tr>\n",
              "    <tr>\n",
              "      <th>1304</th>\n",
              "      <td>3</td>\n",
              "      <td>1</td>\n",
              "      <td>1</td>\n",
              "      <td>0</td>\n",
              "      <td>0</td>\n",
              "      <td>1</td>\n",
              "      <td>2</td>\n",
              "      <td>2</td>\n",
              "      <td>137</td>\n",
              "      <td>3</td>\n",
              "      <td>0</td>\n",
              "      <td>1</td>\n",
              "      <td>1</td>\n",
              "      <td>2</td>\n",
              "    </tr>\n",
              "    <tr>\n",
              "      <th>1305</th>\n",
              "      <td>1</td>\n",
              "      <td>0</td>\n",
              "      <td>2</td>\n",
              "      <td>0</td>\n",
              "      <td>0</td>\n",
              "      <td>4</td>\n",
              "      <td>0</td>\n",
              "      <td>0</td>\n",
              "      <td>154</td>\n",
              "      <td>5</td>\n",
              "      <td>1</td>\n",
              "      <td>1</td>\n",
              "      <td>1</td>\n",
              "      <td>4</td>\n",
              "    </tr>\n",
              "    <tr>\n",
              "      <th>1306</th>\n",
              "      <td>3</td>\n",
              "      <td>1</td>\n",
              "      <td>2</td>\n",
              "      <td>0</td>\n",
              "      <td>0</td>\n",
              "      <td>0</td>\n",
              "      <td>2</td>\n",
              "      <td>2</td>\n",
              "      <td>164</td>\n",
              "      <td>4</td>\n",
              "      <td>0</td>\n",
              "      <td>1</td>\n",
              "      <td>1</td>\n",
              "      <td>2</td>\n",
              "    </tr>\n",
              "    <tr>\n",
              "      <th>1307</th>\n",
              "      <td>3</td>\n",
              "      <td>1</td>\n",
              "      <td>1</td>\n",
              "      <td>0</td>\n",
              "      <td>0</td>\n",
              "      <td>1</td>\n",
              "      <td>2</td>\n",
              "      <td>2</td>\n",
              "      <td>96</td>\n",
              "      <td>3</td>\n",
              "      <td>0</td>\n",
              "      <td>1</td>\n",
              "      <td>1</td>\n",
              "      <td>2</td>\n",
              "    </tr>\n",
              "    <tr>\n",
              "      <th>1308</th>\n",
              "      <td>3</td>\n",
              "      <td>1</td>\n",
              "      <td>1</td>\n",
              "      <td>1</td>\n",
              "      <td>1</td>\n",
              "      <td>3</td>\n",
              "      <td>0</td>\n",
              "      <td>2</td>\n",
              "      <td>57</td>\n",
              "      <td>4</td>\n",
              "      <td>0</td>\n",
              "      <td>3</td>\n",
              "      <td>0</td>\n",
              "      <td>0</td>\n",
              "    </tr>\n",
              "  </tbody>\n",
              "</table>\n",
              "<p>418 rows × 14 columns</p>\n",
              "</div>"
            ],
            "text/plain": [
              "      Pclass  Sex  Age  SibSp  ...  Has_Cabin  Family_size  isalone  Title\n",
              "891        3    1    2      0  ...          0            1        1      2\n",
              "892        3    0    2      1  ...          0            2        0      3\n",
              "893        2    1    3      0  ...          0            1        1      2\n",
              "894        3    1    1      0  ...          0            1        1      2\n",
              "895        3    0    1      1  ...          0            3        0      3\n",
              "...      ...  ...  ...    ...  ...        ...          ...      ...    ...\n",
              "1304       3    1    1      0  ...          0            1        1      2\n",
              "1305       1    0    2      0  ...          1            1        1      4\n",
              "1306       3    1    2      0  ...          0            1        1      2\n",
              "1307       3    1    1      0  ...          0            1        1      2\n",
              "1308       3    1    1      1  ...          0            3        0      0\n",
              "\n",
              "[418 rows x 14 columns]"
            ]
          },
          "metadata": {
            "tags": []
          },
          "execution_count": 260
        }
      ]
    },
    {
      "cell_type": "code",
      "metadata": {
        "colab": {
          "base_uri": "https://localhost:8080/"
        },
        "id": "_F6KSKxfBXID",
        "outputId": "5dc86806-6ab5-4fb2-e0c4-fdbe9020263e"
      },
      "source": [
        "x.shape"
      ],
      "execution_count": null,
      "outputs": [
        {
          "output_type": "execute_result",
          "data": {
            "text/plain": [
              "(891, 14)"
            ]
          },
          "metadata": {
            "tags": []
          },
          "execution_count": 261
        }
      ]
    },
    {
      "cell_type": "code",
      "metadata": {
        "colab": {
          "base_uri": "https://localhost:8080/"
        },
        "id": "e7iRhO3THBhc",
        "outputId": "943e0601-93bb-437b-9542-3053b93c5075"
      },
      "source": [
        "test.shape"
      ],
      "execution_count": null,
      "outputs": [
        {
          "output_type": "execute_result",
          "data": {
            "text/plain": [
              "(418, 14)"
            ]
          },
          "metadata": {
            "tags": []
          },
          "execution_count": 262
        }
      ]
    },
    {
      "cell_type": "code",
      "metadata": {
        "id": "R_T4dwpnjyoN"
      },
      "source": [
        "x_train, x_test, y_train, y_test = train_test_split(x, y, test_size=0.1, random_state=1)"
      ],
      "execution_count": null,
      "outputs": []
    },
    {
      "cell_type": "code",
      "metadata": {
        "colab": {
          "base_uri": "https://localhost:8080/"
        },
        "id": "GwYkEzu4pqPs",
        "outputId": "fa002bde-ef60-45a5-d34b-e30b048005e8"
      },
      "source": [
        "x_train.shape"
      ],
      "execution_count": null,
      "outputs": [
        {
          "output_type": "execute_result",
          "data": {
            "text/plain": [
              "(801, 14)"
            ]
          },
          "metadata": {
            "tags": []
          },
          "execution_count": 264
        }
      ]
    },
    {
      "cell_type": "code",
      "metadata": {
        "id": "PwyFKsLmjzL9"
      },
      "source": [
        "from keras.layers import Dense, Activation, Dropout"
      ],
      "execution_count": null,
      "outputs": []
    },
    {
      "cell_type": "code",
      "metadata": {
        "id": "IVFjXlZnotcX"
      },
      "source": [
        "inputs = tf.keras.Input(shape=(x_train.shape[1],))\r\n",
        "\r\n",
        "x1 = tf.keras.layers.Dense(512, activation='relu')(inputs)\r\n",
        "#x1 = tf.keras.layers.Dropout(0.5)(x1)\r\n",
        "x1 = tf.keras.layers.Dense(64, activation='relu')(x1)\r\n",
        "#x1 = tf.keras.layers.Dropout(0.5)(x1)\r\n",
        "x1 = tf.keras.layers.Dense(10, activation='relu')(x1)\r\n",
        "#x1 = tf.keras.layers.Dropout(0.5)(x1)\r\n",
        "\r\n",
        "x2 = tf.keras.layers.Dense(64, activation='relu')(inputs)\r\n",
        "#x2 = tf.keras.layers.Dropout(0.5)(x2)\r\n",
        "x2 = tf.keras.layers.Dense(512, activation='relu')(x2)\r\n",
        "#x2 = tf.keras.layers.Dropout(0.5)(x2)\r\n",
        "x2 = tf.keras.layers.Dense(10, activation='relu')(x2)\r\n",
        "#x2 = tf.keras.layers.Dropout(0.5)(x2)\r\n",
        "\r\n",
        "x3 = tf.keras.layers.Dense(128, activation='relu')(inputs)\r\n",
        "#x3 = tf.keras.layers.Dropout(0.5)(x3)\r\n",
        "x3 = tf.keras.layers.Dense(128, activation='relu')(x3)\r\n",
        "#x3 = tf.keras.layers.Dropout(0.5)(x3)\r\n",
        "x3 = tf.keras.layers.Dense(10, activation='relu')(x3)\r\n",
        "#x3 = tf.keras.layers.Dropout(0.5)(x3)\r\n",
        "\r\n",
        "#x4 = tf.keras.layers.Dense(128, activation='relu')(inputs)\r\n",
        "#x4 = tf.keras.layers.Dropout(0.3)(x4)\r\n",
        "#x4 = tf.keras.layers.Dense(64, activation='relu')(x4)\r\n",
        "#x4 = tf.keras.layers.Dropout(0.3)(x4)\r\n",
        "#x4 = tf.keras.layers.Dense(32, activation='relu')(x4)\r\n",
        "#x4 = tf.keras.layers.Dropout(0.3)(x4)\r\n",
        "\r\n",
        "x = tf.keras.layers.concatenate([inputs, x1, x2, x3], axis=1)\r\n",
        "x = tf.keras.layers.Dense(64, activation='relu')(x)\r\n",
        "#x = tf.keras.layers.Dropout(0.5)(x)\r\n",
        "x = tf.keras.layers.Dense(128, activation='relu')(x)\r\n",
        "#x = tf.keras.layers.Dropout(0.5)(x)\r\n",
        "\r\n",
        "outputs = tf.keras.layers.Dense(2, activation='softmax')(x)\r\n",
        "\r\n",
        "model = tf.keras.Model(inputs=inputs, outputs=outputs)\r\n",
        "\r\n",
        "model.compile(optimizer=tf.keras.optimizers.Adam(lr=1e-5), loss='sparse_categorical_crossentropy', metrics=['accuracy'])"
      ],
      "execution_count": null,
      "outputs": []
    },
    {
      "cell_type": "code",
      "metadata": {
        "colab": {
          "base_uri": "https://localhost:8080/"
        },
        "id": "ZJmR-9yor2G4",
        "outputId": "31ff867a-f629-4c87-a326-c2af812419e8"
      },
      "source": [
        "model.summary()"
      ],
      "execution_count": null,
      "outputs": [
        {
          "output_type": "stream",
          "text": [
            "Model: \"model_28\"\n",
            "__________________________________________________________________________________________________\n",
            "Layer (type)                    Output Shape         Param #     Connected to                     \n",
            "==================================================================================================\n",
            "input_29 (InputLayer)           [(None, 14)]         0                                            \n",
            "__________________________________________________________________________________________________\n",
            "dense_366 (Dense)               (None, 512)          7680        input_29[0][0]                   \n",
            "__________________________________________________________________________________________________\n",
            "dense_369 (Dense)               (None, 64)           960         input_29[0][0]                   \n",
            "__________________________________________________________________________________________________\n",
            "dense_372 (Dense)               (None, 128)          1920        input_29[0][0]                   \n",
            "__________________________________________________________________________________________________\n",
            "dense_367 (Dense)               (None, 64)           32832       dense_366[0][0]                  \n",
            "__________________________________________________________________________________________________\n",
            "dense_370 (Dense)               (None, 512)          33280       dense_369[0][0]                  \n",
            "__________________________________________________________________________________________________\n",
            "dense_373 (Dense)               (None, 128)          16512       dense_372[0][0]                  \n",
            "__________________________________________________________________________________________________\n",
            "dense_368 (Dense)               (None, 10)           650         dense_367[0][0]                  \n",
            "__________________________________________________________________________________________________\n",
            "dense_371 (Dense)               (None, 10)           5130        dense_370[0][0]                  \n",
            "__________________________________________________________________________________________________\n",
            "dense_374 (Dense)               (None, 10)           1290        dense_373[0][0]                  \n",
            "__________________________________________________________________________________________________\n",
            "concatenate_28 (Concatenate)    (None, 44)           0           input_29[0][0]                   \n",
            "                                                                 dense_368[0][0]                  \n",
            "                                                                 dense_371[0][0]                  \n",
            "                                                                 dense_374[0][0]                  \n",
            "__________________________________________________________________________________________________\n",
            "dense_375 (Dense)               (None, 64)           2880        concatenate_28[0][0]             \n",
            "__________________________________________________________________________________________________\n",
            "dense_376 (Dense)               (None, 128)          8320        dense_375[0][0]                  \n",
            "__________________________________________________________________________________________________\n",
            "dense_377 (Dense)               (None, 2)            258         dense_376[0][0]                  \n",
            "==================================================================================================\n",
            "Total params: 111,712\n",
            "Trainable params: 111,712\n",
            "Non-trainable params: 0\n",
            "__________________________________________________________________________________________________\n"
          ],
          "name": "stdout"
        }
      ]
    },
    {
      "cell_type": "code",
      "metadata": {
        "id": "oms85c4Mpwqy",
        "colab": {
          "base_uri": "https://localhost:8080/"
        },
        "outputId": "b454e377-131d-4ce8-e818-f1c8900a6a83"
      },
      "source": [
        "history = model.fit(x_train, y_train, shuffle=True, epochs=200, batch_size=16, validation_split=0.1, verbose=1)"
      ],
      "execution_count": null,
      "outputs": [
        {
          "output_type": "stream",
          "text": [
            "Epoch 1/200\n",
            "45/45 [==============================] - 0s 6ms/step - loss: 0.4241 - accuracy: 0.8139 - val_loss: 0.4319 - val_accuracy: 0.8025\n",
            "Epoch 2/200\n",
            "45/45 [==============================] - 0s 5ms/step - loss: 0.4198 - accuracy: 0.8264 - val_loss: 0.4292 - val_accuracy: 0.8025\n",
            "Epoch 3/200\n",
            "45/45 [==============================] - 0s 5ms/step - loss: 0.4283 - accuracy: 0.8153 - val_loss: 0.4343 - val_accuracy: 0.8148\n",
            "Epoch 4/200\n",
            "45/45 [==============================] - 0s 5ms/step - loss: 0.4249 - accuracy: 0.8125 - val_loss: 0.4377 - val_accuracy: 0.8148\n",
            "Epoch 5/200\n",
            "45/45 [==============================] - 0s 4ms/step - loss: 0.4269 - accuracy: 0.8056 - val_loss: 0.4301 - val_accuracy: 0.8025\n",
            "Epoch 6/200\n",
            "45/45 [==============================] - 0s 5ms/step - loss: 0.4225 - accuracy: 0.8153 - val_loss: 0.4377 - val_accuracy: 0.8025\n",
            "Epoch 7/200\n",
            "45/45 [==============================] - 0s 4ms/step - loss: 0.4243 - accuracy: 0.8208 - val_loss: 0.4365 - val_accuracy: 0.8025\n",
            "Epoch 8/200\n",
            "45/45 [==============================] - 0s 4ms/step - loss: 0.4210 - accuracy: 0.8194 - val_loss: 0.4298 - val_accuracy: 0.8025\n",
            "Epoch 9/200\n",
            "45/45 [==============================] - 0s 4ms/step - loss: 0.4233 - accuracy: 0.8153 - val_loss: 0.4556 - val_accuracy: 0.8272\n",
            "Epoch 10/200\n",
            "45/45 [==============================] - 0s 4ms/step - loss: 0.4240 - accuracy: 0.8153 - val_loss: 0.4377 - val_accuracy: 0.8272\n",
            "Epoch 11/200\n",
            "45/45 [==============================] - 0s 5ms/step - loss: 0.4213 - accuracy: 0.8125 - val_loss: 0.4340 - val_accuracy: 0.8025\n",
            "Epoch 12/200\n",
            "45/45 [==============================] - 0s 4ms/step - loss: 0.4224 - accuracy: 0.8167 - val_loss: 0.4282 - val_accuracy: 0.8025\n",
            "Epoch 13/200\n",
            "45/45 [==============================] - 0s 5ms/step - loss: 0.4321 - accuracy: 0.8111 - val_loss: 0.4557 - val_accuracy: 0.8272\n",
            "Epoch 14/200\n",
            "45/45 [==============================] - 0s 5ms/step - loss: 0.4231 - accuracy: 0.8194 - val_loss: 0.4388 - val_accuracy: 0.8395\n",
            "Epoch 15/200\n",
            "45/45 [==============================] - 0s 5ms/step - loss: 0.4194 - accuracy: 0.8208 - val_loss: 0.4318 - val_accuracy: 0.8025\n",
            "Epoch 16/200\n",
            "45/45 [==============================] - 0s 5ms/step - loss: 0.4223 - accuracy: 0.8292 - val_loss: 0.4351 - val_accuracy: 0.8148\n",
            "Epoch 17/200\n",
            "45/45 [==============================] - 0s 5ms/step - loss: 0.4181 - accuracy: 0.8250 - val_loss: 0.4387 - val_accuracy: 0.8395\n",
            "Epoch 18/200\n",
            "45/45 [==============================] - 0s 5ms/step - loss: 0.4172 - accuracy: 0.8181 - val_loss: 0.4299 - val_accuracy: 0.8148\n",
            "Epoch 19/200\n",
            "45/45 [==============================] - 0s 5ms/step - loss: 0.4223 - accuracy: 0.8222 - val_loss: 0.4657 - val_accuracy: 0.7778\n",
            "Epoch 20/200\n",
            "45/45 [==============================] - 0s 5ms/step - loss: 0.4185 - accuracy: 0.8306 - val_loss: 0.4797 - val_accuracy: 0.7654\n",
            "Epoch 21/200\n",
            "45/45 [==============================] - 0s 6ms/step - loss: 0.4231 - accuracy: 0.8083 - val_loss: 0.4428 - val_accuracy: 0.8642\n",
            "Epoch 22/200\n",
            "45/45 [==============================] - 0s 6ms/step - loss: 0.4188 - accuracy: 0.8264 - val_loss: 0.4691 - val_accuracy: 0.7778\n",
            "Epoch 23/200\n",
            "45/45 [==============================] - 0s 5ms/step - loss: 0.4155 - accuracy: 0.8264 - val_loss: 0.4253 - val_accuracy: 0.8025\n",
            "Epoch 24/200\n",
            "45/45 [==============================] - 0s 5ms/step - loss: 0.4178 - accuracy: 0.8153 - val_loss: 0.4252 - val_accuracy: 0.8025\n",
            "Epoch 25/200\n",
            "45/45 [==============================] - 0s 5ms/step - loss: 0.4151 - accuracy: 0.8347 - val_loss: 0.4248 - val_accuracy: 0.8025\n",
            "Epoch 26/200\n",
            "45/45 [==============================] - 0s 5ms/step - loss: 0.4153 - accuracy: 0.8236 - val_loss: 0.4334 - val_accuracy: 0.8148\n",
            "Epoch 27/200\n",
            "45/45 [==============================] - 0s 5ms/step - loss: 0.4139 - accuracy: 0.8306 - val_loss: 0.4317 - val_accuracy: 0.8148\n",
            "Epoch 28/200\n",
            "45/45 [==============================] - 0s 5ms/step - loss: 0.4141 - accuracy: 0.8306 - val_loss: 0.4479 - val_accuracy: 0.8395\n",
            "Epoch 29/200\n",
            "45/45 [==============================] - 0s 5ms/step - loss: 0.4201 - accuracy: 0.8222 - val_loss: 0.4280 - val_accuracy: 0.8148\n",
            "Epoch 30/200\n",
            "45/45 [==============================] - 0s 6ms/step - loss: 0.4133 - accuracy: 0.8250 - val_loss: 0.4381 - val_accuracy: 0.8519\n",
            "Epoch 31/200\n",
            "45/45 [==============================] - 0s 5ms/step - loss: 0.4125 - accuracy: 0.8306 - val_loss: 0.4348 - val_accuracy: 0.8272\n",
            "Epoch 32/200\n",
            "45/45 [==============================] - 0s 5ms/step - loss: 0.4160 - accuracy: 0.8306 - val_loss: 0.4232 - val_accuracy: 0.8025\n",
            "Epoch 33/200\n",
            "45/45 [==============================] - 0s 5ms/step - loss: 0.4129 - accuracy: 0.8181 - val_loss: 0.4368 - val_accuracy: 0.8395\n",
            "Epoch 34/200\n",
            "45/45 [==============================] - 0s 6ms/step - loss: 0.4165 - accuracy: 0.8264 - val_loss: 0.4336 - val_accuracy: 0.8272\n",
            "Epoch 35/200\n",
            "45/45 [==============================] - 0s 5ms/step - loss: 0.4118 - accuracy: 0.8292 - val_loss: 0.4306 - val_accuracy: 0.8148\n",
            "Epoch 36/200\n",
            "45/45 [==============================] - 0s 5ms/step - loss: 0.4190 - accuracy: 0.8194 - val_loss: 0.4475 - val_accuracy: 0.8395\n",
            "Epoch 37/200\n",
            "45/45 [==============================] - 0s 5ms/step - loss: 0.4113 - accuracy: 0.8347 - val_loss: 0.4258 - val_accuracy: 0.8025\n",
            "Epoch 38/200\n",
            "45/45 [==============================] - 0s 5ms/step - loss: 0.4147 - accuracy: 0.8250 - val_loss: 0.4285 - val_accuracy: 0.8148\n",
            "Epoch 39/200\n",
            "45/45 [==============================] - 0s 5ms/step - loss: 0.4135 - accuracy: 0.8278 - val_loss: 0.4325 - val_accuracy: 0.8272\n",
            "Epoch 40/200\n",
            "45/45 [==============================] - 0s 4ms/step - loss: 0.4098 - accuracy: 0.8306 - val_loss: 0.4247 - val_accuracy: 0.8025\n",
            "Epoch 41/200\n",
            "45/45 [==============================] - 0s 4ms/step - loss: 0.4108 - accuracy: 0.8278 - val_loss: 0.4550 - val_accuracy: 0.8025\n",
            "Epoch 42/200\n",
            "45/45 [==============================] - 0s 5ms/step - loss: 0.4129 - accuracy: 0.8264 - val_loss: 0.4289 - val_accuracy: 0.8148\n",
            "Epoch 43/200\n",
            "45/45 [==============================] - 0s 5ms/step - loss: 0.4111 - accuracy: 0.8264 - val_loss: 0.4313 - val_accuracy: 0.8272\n",
            "Epoch 44/200\n",
            "45/45 [==============================] - 0s 4ms/step - loss: 0.4089 - accuracy: 0.8319 - val_loss: 0.4258 - val_accuracy: 0.8148\n",
            "Epoch 45/200\n",
            "45/45 [==============================] - 0s 4ms/step - loss: 0.4102 - accuracy: 0.8292 - val_loss: 0.4342 - val_accuracy: 0.8395\n",
            "Epoch 46/200\n",
            "45/45 [==============================] - 0s 5ms/step - loss: 0.4066 - accuracy: 0.8347 - val_loss: 0.4226 - val_accuracy: 0.8025\n",
            "Epoch 47/200\n",
            "45/45 [==============================] - 0s 5ms/step - loss: 0.4135 - accuracy: 0.8250 - val_loss: 0.4220 - val_accuracy: 0.8025\n",
            "Epoch 48/200\n",
            "45/45 [==============================] - 0s 5ms/step - loss: 0.4115 - accuracy: 0.8319 - val_loss: 0.4251 - val_accuracy: 0.8148\n",
            "Epoch 49/200\n",
            "45/45 [==============================] - 0s 4ms/step - loss: 0.4070 - accuracy: 0.8264 - val_loss: 0.4220 - val_accuracy: 0.8025\n",
            "Epoch 50/200\n",
            "45/45 [==============================] - 0s 4ms/step - loss: 0.4081 - accuracy: 0.8292 - val_loss: 0.4403 - val_accuracy: 0.8395\n",
            "Epoch 51/200\n",
            "45/45 [==============================] - 0s 4ms/step - loss: 0.4089 - accuracy: 0.8347 - val_loss: 0.4307 - val_accuracy: 0.8395\n",
            "Epoch 52/200\n",
            "45/45 [==============================] - 0s 4ms/step - loss: 0.4073 - accuracy: 0.8319 - val_loss: 0.4236 - val_accuracy: 0.8148\n",
            "Epoch 53/200\n",
            "45/45 [==============================] - 0s 5ms/step - loss: 0.4066 - accuracy: 0.8292 - val_loss: 0.4508 - val_accuracy: 0.8148\n",
            "Epoch 54/200\n",
            "45/45 [==============================] - 0s 4ms/step - loss: 0.4050 - accuracy: 0.8389 - val_loss: 0.4279 - val_accuracy: 0.8272\n",
            "Epoch 55/200\n",
            "45/45 [==============================] - 0s 5ms/step - loss: 0.4088 - accuracy: 0.8361 - val_loss: 0.4268 - val_accuracy: 0.8148\n",
            "Epoch 56/200\n",
            "45/45 [==============================] - 0s 5ms/step - loss: 0.4064 - accuracy: 0.8292 - val_loss: 0.4267 - val_accuracy: 0.8148\n",
            "Epoch 57/200\n",
            "45/45 [==============================] - 0s 4ms/step - loss: 0.4062 - accuracy: 0.8389 - val_loss: 0.4440 - val_accuracy: 0.8148\n",
            "Epoch 58/200\n",
            "45/45 [==============================] - 0s 4ms/step - loss: 0.4059 - accuracy: 0.8319 - val_loss: 0.4495 - val_accuracy: 0.8272\n",
            "Epoch 59/200\n",
            "45/45 [==============================] - 0s 5ms/step - loss: 0.4021 - accuracy: 0.8347 - val_loss: 0.4220 - val_accuracy: 0.8025\n",
            "Epoch 60/200\n",
            "45/45 [==============================] - 0s 5ms/step - loss: 0.4072 - accuracy: 0.8333 - val_loss: 0.4414 - val_accuracy: 0.8148\n",
            "Epoch 61/200\n",
            "45/45 [==============================] - 0s 5ms/step - loss: 0.4022 - accuracy: 0.8361 - val_loss: 0.4227 - val_accuracy: 0.8025\n",
            "Epoch 62/200\n",
            "45/45 [==============================] - 0s 4ms/step - loss: 0.4087 - accuracy: 0.8347 - val_loss: 0.4293 - val_accuracy: 0.8395\n",
            "Epoch 63/200\n",
            "45/45 [==============================] - 0s 4ms/step - loss: 0.4037 - accuracy: 0.8375 - val_loss: 0.4285 - val_accuracy: 0.8395\n",
            "Epoch 64/200\n",
            "45/45 [==============================] - 0s 4ms/step - loss: 0.4048 - accuracy: 0.8375 - val_loss: 0.4238 - val_accuracy: 0.8148\n",
            "Epoch 65/200\n",
            "45/45 [==============================] - 0s 4ms/step - loss: 0.4085 - accuracy: 0.8264 - val_loss: 0.4377 - val_accuracy: 0.8272\n",
            "Epoch 66/200\n",
            "45/45 [==============================] - 0s 4ms/step - loss: 0.4110 - accuracy: 0.8208 - val_loss: 0.4532 - val_accuracy: 0.8148\n",
            "Epoch 67/200\n",
            "45/45 [==============================] - 0s 5ms/step - loss: 0.4115 - accuracy: 0.8264 - val_loss: 0.4250 - val_accuracy: 0.8025\n",
            "Epoch 68/200\n",
            "45/45 [==============================] - 0s 4ms/step - loss: 0.4044 - accuracy: 0.8361 - val_loss: 0.4831 - val_accuracy: 0.7654\n",
            "Epoch 69/200\n",
            "45/45 [==============================] - 0s 5ms/step - loss: 0.4117 - accuracy: 0.8278 - val_loss: 0.4470 - val_accuracy: 0.8148\n",
            "Epoch 70/200\n",
            "45/45 [==============================] - 0s 5ms/step - loss: 0.4044 - accuracy: 0.8444 - val_loss: 0.4362 - val_accuracy: 0.8148\n",
            "Epoch 71/200\n",
            "45/45 [==============================] - 0s 5ms/step - loss: 0.4088 - accuracy: 0.8333 - val_loss: 0.4307 - val_accuracy: 0.8395\n",
            "Epoch 72/200\n",
            "45/45 [==============================] - 0s 4ms/step - loss: 0.4021 - accuracy: 0.8333 - val_loss: 0.4387 - val_accuracy: 0.8272\n",
            "Epoch 73/200\n",
            "45/45 [==============================] - 0s 4ms/step - loss: 0.4027 - accuracy: 0.8333 - val_loss: 0.4260 - val_accuracy: 0.8148\n",
            "Epoch 74/200\n",
            "45/45 [==============================] - 0s 5ms/step - loss: 0.4046 - accuracy: 0.8333 - val_loss: 0.4534 - val_accuracy: 0.8272\n",
            "Epoch 75/200\n",
            "45/45 [==============================] - 0s 5ms/step - loss: 0.4153 - accuracy: 0.8319 - val_loss: 0.4392 - val_accuracy: 0.8272\n",
            "Epoch 76/200\n",
            "45/45 [==============================] - 0s 5ms/step - loss: 0.4033 - accuracy: 0.8347 - val_loss: 0.4535 - val_accuracy: 0.8272\n",
            "Epoch 77/200\n",
            "45/45 [==============================] - 0s 5ms/step - loss: 0.3972 - accuracy: 0.8417 - val_loss: 0.4236 - val_accuracy: 0.8148\n",
            "Epoch 78/200\n",
            "45/45 [==============================] - 0s 4ms/step - loss: 0.4052 - accuracy: 0.8361 - val_loss: 0.4385 - val_accuracy: 0.8272\n",
            "Epoch 79/200\n",
            "45/45 [==============================] - 0s 4ms/step - loss: 0.3991 - accuracy: 0.8389 - val_loss: 0.4367 - val_accuracy: 0.8272\n",
            "Epoch 80/200\n",
            "45/45 [==============================] - 0s 4ms/step - loss: 0.3981 - accuracy: 0.8333 - val_loss: 0.4736 - val_accuracy: 0.7654\n",
            "Epoch 81/200\n",
            "45/45 [==============================] - 0s 5ms/step - loss: 0.4033 - accuracy: 0.8333 - val_loss: 0.4273 - val_accuracy: 0.8148\n",
            "Epoch 82/200\n",
            "45/45 [==============================] - 0s 4ms/step - loss: 0.4052 - accuracy: 0.8375 - val_loss: 0.4317 - val_accuracy: 0.8395\n",
            "Epoch 83/200\n",
            "45/45 [==============================] - 0s 4ms/step - loss: 0.4012 - accuracy: 0.8347 - val_loss: 0.4290 - val_accuracy: 0.8395\n",
            "Epoch 84/200\n",
            "45/45 [==============================] - 0s 5ms/step - loss: 0.3996 - accuracy: 0.8403 - val_loss: 0.4366 - val_accuracy: 0.8272\n",
            "Epoch 85/200\n",
            "45/45 [==============================] - 0s 5ms/step - loss: 0.4032 - accuracy: 0.8403 - val_loss: 0.4433 - val_accuracy: 0.8148\n",
            "Epoch 86/200\n",
            "45/45 [==============================] - 0s 5ms/step - loss: 0.4074 - accuracy: 0.8306 - val_loss: 0.4456 - val_accuracy: 0.8148\n",
            "Epoch 87/200\n",
            "45/45 [==============================] - 0s 4ms/step - loss: 0.3972 - accuracy: 0.8361 - val_loss: 0.4322 - val_accuracy: 0.8272\n",
            "Epoch 88/200\n",
            "45/45 [==============================] - 0s 5ms/step - loss: 0.3980 - accuracy: 0.8389 - val_loss: 0.4449 - val_accuracy: 0.8148\n",
            "Epoch 89/200\n",
            "45/45 [==============================] - 0s 4ms/step - loss: 0.4008 - accuracy: 0.8431 - val_loss: 0.4335 - val_accuracy: 0.8272\n",
            "Epoch 90/200\n",
            "45/45 [==============================] - 0s 4ms/step - loss: 0.3990 - accuracy: 0.8403 - val_loss: 0.4327 - val_accuracy: 0.8272\n",
            "Epoch 91/200\n",
            "45/45 [==============================] - 0s 5ms/step - loss: 0.3979 - accuracy: 0.8306 - val_loss: 0.4391 - val_accuracy: 0.8025\n",
            "Epoch 92/200\n",
            "45/45 [==============================] - 0s 5ms/step - loss: 0.4003 - accuracy: 0.8375 - val_loss: 0.4388 - val_accuracy: 0.8025\n",
            "Epoch 93/200\n",
            "45/45 [==============================] - 0s 4ms/step - loss: 0.3986 - accuracy: 0.8528 - val_loss: 0.4478 - val_accuracy: 0.8148\n",
            "Epoch 94/200\n",
            "45/45 [==============================] - 0s 4ms/step - loss: 0.4027 - accuracy: 0.8306 - val_loss: 0.4271 - val_accuracy: 0.8272\n",
            "Epoch 95/200\n",
            "45/45 [==============================] - 0s 4ms/step - loss: 0.3969 - accuracy: 0.8444 - val_loss: 0.4282 - val_accuracy: 0.8395\n",
            "Epoch 96/200\n",
            "45/45 [==============================] - 0s 5ms/step - loss: 0.3973 - accuracy: 0.8361 - val_loss: 0.4263 - val_accuracy: 0.8025\n",
            "Epoch 97/200\n",
            "45/45 [==============================] - 0s 4ms/step - loss: 0.3954 - accuracy: 0.8389 - val_loss: 0.4428 - val_accuracy: 0.8025\n",
            "Epoch 98/200\n",
            "45/45 [==============================] - 0s 5ms/step - loss: 0.3976 - accuracy: 0.8444 - val_loss: 0.4317 - val_accuracy: 0.8272\n",
            "Epoch 99/200\n",
            "45/45 [==============================] - 0s 5ms/step - loss: 0.3953 - accuracy: 0.8431 - val_loss: 0.4538 - val_accuracy: 0.8272\n",
            "Epoch 100/200\n",
            "45/45 [==============================] - 0s 4ms/step - loss: 0.4027 - accuracy: 0.8361 - val_loss: 0.4480 - val_accuracy: 0.8148\n",
            "Epoch 101/200\n",
            "45/45 [==============================] - 0s 5ms/step - loss: 0.3953 - accuracy: 0.8431 - val_loss: 0.4270 - val_accuracy: 0.8148\n",
            "Epoch 102/200\n",
            "45/45 [==============================] - 0s 4ms/step - loss: 0.3964 - accuracy: 0.8472 - val_loss: 0.4322 - val_accuracy: 0.8272\n",
            "Epoch 103/200\n",
            "45/45 [==============================] - 0s 5ms/step - loss: 0.3978 - accuracy: 0.8417 - val_loss: 0.4338 - val_accuracy: 0.8272\n",
            "Epoch 104/200\n",
            "45/45 [==============================] - 0s 5ms/step - loss: 0.3952 - accuracy: 0.8444 - val_loss: 0.4324 - val_accuracy: 0.8272\n",
            "Epoch 105/200\n",
            "45/45 [==============================] - 0s 5ms/step - loss: 0.3937 - accuracy: 0.8417 - val_loss: 0.4426 - val_accuracy: 0.8025\n",
            "Epoch 106/200\n",
            "45/45 [==============================] - 0s 5ms/step - loss: 0.3971 - accuracy: 0.8375 - val_loss: 0.4511 - val_accuracy: 0.8148\n",
            "Epoch 107/200\n",
            "45/45 [==============================] - 0s 5ms/step - loss: 0.3993 - accuracy: 0.8403 - val_loss: 0.4552 - val_accuracy: 0.8272\n",
            "Epoch 108/200\n",
            "45/45 [==============================] - 0s 4ms/step - loss: 0.3928 - accuracy: 0.8458 - val_loss: 0.4488 - val_accuracy: 0.8148\n",
            "Epoch 109/200\n",
            "45/45 [==============================] - 0s 5ms/step - loss: 0.3990 - accuracy: 0.8403 - val_loss: 0.4459 - val_accuracy: 0.8025\n",
            "Epoch 110/200\n",
            "45/45 [==============================] - 0s 5ms/step - loss: 0.4007 - accuracy: 0.8389 - val_loss: 0.4285 - val_accuracy: 0.8272\n",
            "Epoch 111/200\n",
            "45/45 [==============================] - 0s 5ms/step - loss: 0.3997 - accuracy: 0.8361 - val_loss: 0.4693 - val_accuracy: 0.7901\n",
            "Epoch 112/200\n",
            "45/45 [==============================] - 0s 5ms/step - loss: 0.3938 - accuracy: 0.8417 - val_loss: 0.4503 - val_accuracy: 0.8148\n",
            "Epoch 113/200\n",
            "45/45 [==============================] - 0s 4ms/step - loss: 0.3931 - accuracy: 0.8431 - val_loss: 0.4643 - val_accuracy: 0.8025\n",
            "Epoch 114/200\n",
            "45/45 [==============================] - 0s 5ms/step - loss: 0.3962 - accuracy: 0.8389 - val_loss: 0.4639 - val_accuracy: 0.8025\n",
            "Epoch 115/200\n",
            "45/45 [==============================] - 0s 5ms/step - loss: 0.3942 - accuracy: 0.8514 - val_loss: 0.4722 - val_accuracy: 0.7901\n",
            "Epoch 116/200\n",
            "45/45 [==============================] - 0s 4ms/step - loss: 0.3955 - accuracy: 0.8528 - val_loss: 0.4296 - val_accuracy: 0.8395\n",
            "Epoch 117/200\n",
            "45/45 [==============================] - 0s 4ms/step - loss: 0.4011 - accuracy: 0.8458 - val_loss: 0.4505 - val_accuracy: 0.8148\n",
            "Epoch 118/200\n",
            "45/45 [==============================] - 0s 5ms/step - loss: 0.3913 - accuracy: 0.8444 - val_loss: 0.4308 - val_accuracy: 0.8395\n",
            "Epoch 119/200\n",
            "45/45 [==============================] - 0s 5ms/step - loss: 0.3972 - accuracy: 0.8403 - val_loss: 0.4268 - val_accuracy: 0.8025\n",
            "Epoch 120/200\n",
            "45/45 [==============================] - 0s 5ms/step - loss: 0.3941 - accuracy: 0.8361 - val_loss: 0.4323 - val_accuracy: 0.8148\n",
            "Epoch 121/200\n",
            "45/45 [==============================] - 0s 5ms/step - loss: 0.3925 - accuracy: 0.8444 - val_loss: 0.4423 - val_accuracy: 0.8025\n",
            "Epoch 122/200\n",
            "45/45 [==============================] - 0s 4ms/step - loss: 0.3939 - accuracy: 0.8472 - val_loss: 0.4379 - val_accuracy: 0.8025\n",
            "Epoch 123/200\n",
            "45/45 [==============================] - 0s 5ms/step - loss: 0.3952 - accuracy: 0.8472 - val_loss: 0.4306 - val_accuracy: 0.8395\n",
            "Epoch 124/200\n",
            "45/45 [==============================] - 0s 5ms/step - loss: 0.3975 - accuracy: 0.8431 - val_loss: 0.4502 - val_accuracy: 0.8148\n",
            "Epoch 125/200\n",
            "45/45 [==============================] - 0s 4ms/step - loss: 0.3992 - accuracy: 0.8444 - val_loss: 0.4289 - val_accuracy: 0.8272\n",
            "Epoch 126/200\n",
            "45/45 [==============================] - 0s 4ms/step - loss: 0.3948 - accuracy: 0.8333 - val_loss: 0.4573 - val_accuracy: 0.8148\n",
            "Epoch 127/200\n",
            "45/45 [==============================] - 0s 4ms/step - loss: 0.3908 - accuracy: 0.8486 - val_loss: 0.4536 - val_accuracy: 0.8148\n",
            "Epoch 128/200\n",
            "45/45 [==============================] - 0s 5ms/step - loss: 0.3925 - accuracy: 0.8458 - val_loss: 0.4368 - val_accuracy: 0.8025\n",
            "Epoch 129/200\n",
            "45/45 [==============================] - 0s 5ms/step - loss: 0.3922 - accuracy: 0.8514 - val_loss: 0.4451 - val_accuracy: 0.8025\n",
            "Epoch 130/200\n",
            "45/45 [==============================] - 0s 5ms/step - loss: 0.3885 - accuracy: 0.8486 - val_loss: 0.4418 - val_accuracy: 0.8025\n",
            "Epoch 131/200\n",
            "45/45 [==============================] - 0s 5ms/step - loss: 0.3912 - accuracy: 0.8431 - val_loss: 0.4345 - val_accuracy: 0.8272\n",
            "Epoch 132/200\n",
            "45/45 [==============================] - 0s 5ms/step - loss: 0.3888 - accuracy: 0.8472 - val_loss: 0.4449 - val_accuracy: 0.8025\n",
            "Epoch 133/200\n",
            "45/45 [==============================] - 0s 5ms/step - loss: 0.3894 - accuracy: 0.8472 - val_loss: 0.4336 - val_accuracy: 0.8148\n",
            "Epoch 134/200\n",
            "45/45 [==============================] - 0s 5ms/step - loss: 0.3891 - accuracy: 0.8486 - val_loss: 0.4545 - val_accuracy: 0.8025\n",
            "Epoch 135/200\n",
            "45/45 [==============================] - 0s 4ms/step - loss: 0.3912 - accuracy: 0.8472 - val_loss: 0.4340 - val_accuracy: 0.8272\n",
            "Epoch 136/200\n",
            "45/45 [==============================] - 0s 5ms/step - loss: 0.3900 - accuracy: 0.8403 - val_loss: 0.4356 - val_accuracy: 0.8272\n",
            "Epoch 137/200\n",
            "45/45 [==============================] - 0s 4ms/step - loss: 0.3930 - accuracy: 0.8375 - val_loss: 0.4358 - val_accuracy: 0.8025\n",
            "Epoch 138/200\n",
            "45/45 [==============================] - 0s 5ms/step - loss: 0.3950 - accuracy: 0.8403 - val_loss: 0.4350 - val_accuracy: 0.8148\n",
            "Epoch 139/200\n",
            "45/45 [==============================] - 0s 5ms/step - loss: 0.3910 - accuracy: 0.8375 - val_loss: 0.4470 - val_accuracy: 0.8025\n",
            "Epoch 140/200\n",
            "45/45 [==============================] - 0s 5ms/step - loss: 0.3904 - accuracy: 0.8417 - val_loss: 0.4320 - val_accuracy: 0.8395\n",
            "Epoch 141/200\n",
            "45/45 [==============================] - 0s 5ms/step - loss: 0.3917 - accuracy: 0.8389 - val_loss: 0.4364 - val_accuracy: 0.8025\n",
            "Epoch 142/200\n",
            "45/45 [==============================] - 0s 5ms/step - loss: 0.3882 - accuracy: 0.8417 - val_loss: 0.4312 - val_accuracy: 0.8395\n",
            "Epoch 143/200\n",
            "45/45 [==============================] - 0s 4ms/step - loss: 0.3901 - accuracy: 0.8375 - val_loss: 0.4339 - val_accuracy: 0.8272\n",
            "Epoch 144/200\n",
            "45/45 [==============================] - 0s 4ms/step - loss: 0.3888 - accuracy: 0.8500 - val_loss: 0.4308 - val_accuracy: 0.8148\n",
            "Epoch 145/200\n",
            "45/45 [==============================] - 0s 5ms/step - loss: 0.4074 - accuracy: 0.8319 - val_loss: 0.4735 - val_accuracy: 0.8025\n",
            "Epoch 146/200\n",
            "45/45 [==============================] - 0s 5ms/step - loss: 0.3896 - accuracy: 0.8472 - val_loss: 0.4523 - val_accuracy: 0.8025\n",
            "Epoch 147/200\n",
            "45/45 [==============================] - 0s 5ms/step - loss: 0.3881 - accuracy: 0.8514 - val_loss: 0.4446 - val_accuracy: 0.8025\n",
            "Epoch 148/200\n",
            "45/45 [==============================] - 0s 5ms/step - loss: 0.3898 - accuracy: 0.8417 - val_loss: 0.4323 - val_accuracy: 0.8025\n",
            "Epoch 149/200\n",
            "45/45 [==============================] - 0s 5ms/step - loss: 0.3884 - accuracy: 0.8417 - val_loss: 0.4544 - val_accuracy: 0.8025\n",
            "Epoch 150/200\n",
            "45/45 [==============================] - 0s 5ms/step - loss: 0.3908 - accuracy: 0.8431 - val_loss: 0.4344 - val_accuracy: 0.8272\n",
            "Epoch 151/200\n",
            "45/45 [==============================] - 0s 5ms/step - loss: 0.3972 - accuracy: 0.8389 - val_loss: 0.4713 - val_accuracy: 0.8148\n",
            "Epoch 152/200\n",
            "45/45 [==============================] - 0s 5ms/step - loss: 0.3914 - accuracy: 0.8444 - val_loss: 0.4754 - val_accuracy: 0.8025\n",
            "Epoch 153/200\n",
            "45/45 [==============================] - 0s 5ms/step - loss: 0.3871 - accuracy: 0.8375 - val_loss: 0.4370 - val_accuracy: 0.8025\n",
            "Epoch 154/200\n",
            "45/45 [==============================] - 0s 5ms/step - loss: 0.4062 - accuracy: 0.8292 - val_loss: 0.4728 - val_accuracy: 0.8148\n",
            "Epoch 155/200\n",
            "45/45 [==============================] - 0s 5ms/step - loss: 0.3966 - accuracy: 0.8431 - val_loss: 0.4615 - val_accuracy: 0.7901\n",
            "Epoch 156/200\n",
            "45/45 [==============================] - 0s 5ms/step - loss: 0.3887 - accuracy: 0.8528 - val_loss: 0.4382 - val_accuracy: 0.8148\n",
            "Epoch 157/200\n",
            "45/45 [==============================] - 0s 5ms/step - loss: 0.3854 - accuracy: 0.8458 - val_loss: 0.4410 - val_accuracy: 0.8025\n",
            "Epoch 158/200\n",
            "45/45 [==============================] - 0s 5ms/step - loss: 0.3867 - accuracy: 0.8417 - val_loss: 0.4357 - val_accuracy: 0.8272\n",
            "Epoch 159/200\n",
            "45/45 [==============================] - 0s 5ms/step - loss: 0.3864 - accuracy: 0.8444 - val_loss: 0.4714 - val_accuracy: 0.8148\n",
            "Epoch 160/200\n",
            "45/45 [==============================] - 0s 5ms/step - loss: 0.3934 - accuracy: 0.8403 - val_loss: 0.4467 - val_accuracy: 0.8025\n",
            "Epoch 161/200\n",
            "45/45 [==============================] - 0s 5ms/step - loss: 0.3857 - accuracy: 0.8514 - val_loss: 0.4372 - val_accuracy: 0.8272\n",
            "Epoch 162/200\n",
            "45/45 [==============================] - 0s 4ms/step - loss: 0.3867 - accuracy: 0.8431 - val_loss: 0.4426 - val_accuracy: 0.8025\n",
            "Epoch 163/200\n",
            "45/45 [==============================] - 0s 4ms/step - loss: 0.3866 - accuracy: 0.8417 - val_loss: 0.4413 - val_accuracy: 0.8025\n",
            "Epoch 164/200\n",
            "45/45 [==============================] - 0s 5ms/step - loss: 0.3890 - accuracy: 0.8361 - val_loss: 0.4701 - val_accuracy: 0.8148\n",
            "Epoch 165/200\n",
            "45/45 [==============================] - 0s 4ms/step - loss: 0.3847 - accuracy: 0.8444 - val_loss: 0.4541 - val_accuracy: 0.7901\n",
            "Epoch 166/200\n",
            "45/45 [==============================] - 0s 5ms/step - loss: 0.3857 - accuracy: 0.8472 - val_loss: 0.4365 - val_accuracy: 0.8395\n",
            "Epoch 167/200\n",
            "45/45 [==============================] - 0s 5ms/step - loss: 0.3837 - accuracy: 0.8431 - val_loss: 0.4358 - val_accuracy: 0.8025\n",
            "Epoch 168/200\n",
            "45/45 [==============================] - 0s 5ms/step - loss: 0.3871 - accuracy: 0.8472 - val_loss: 0.4475 - val_accuracy: 0.8025\n",
            "Epoch 169/200\n",
            "45/45 [==============================] - 0s 5ms/step - loss: 0.3838 - accuracy: 0.8472 - val_loss: 0.4415 - val_accuracy: 0.8025\n",
            "Epoch 170/200\n",
            "45/45 [==============================] - 0s 5ms/step - loss: 0.3907 - accuracy: 0.8486 - val_loss: 0.4622 - val_accuracy: 0.7901\n",
            "Epoch 171/200\n",
            "45/45 [==============================] - 0s 5ms/step - loss: 0.3830 - accuracy: 0.8458 - val_loss: 0.4668 - val_accuracy: 0.8148\n",
            "Epoch 172/200\n",
            "45/45 [==============================] - 0s 5ms/step - loss: 0.3835 - accuracy: 0.8403 - val_loss: 0.4513 - val_accuracy: 0.8025\n",
            "Epoch 173/200\n",
            "45/45 [==============================] - 0s 4ms/step - loss: 0.3823 - accuracy: 0.8486 - val_loss: 0.4633 - val_accuracy: 0.7901\n",
            "Epoch 174/200\n",
            "45/45 [==============================] - 0s 5ms/step - loss: 0.3838 - accuracy: 0.8472 - val_loss: 0.4371 - val_accuracy: 0.8272\n",
            "Epoch 175/200\n",
            "45/45 [==============================] - 0s 4ms/step - loss: 0.3857 - accuracy: 0.8486 - val_loss: 0.4504 - val_accuracy: 0.8025\n",
            "Epoch 176/200\n",
            "45/45 [==============================] - 0s 5ms/step - loss: 0.3915 - accuracy: 0.8319 - val_loss: 0.4377 - val_accuracy: 0.8025\n",
            "Epoch 177/200\n",
            "45/45 [==============================] - 0s 5ms/step - loss: 0.3818 - accuracy: 0.8403 - val_loss: 0.4398 - val_accuracy: 0.8272\n",
            "Epoch 178/200\n",
            "45/45 [==============================] - 0s 5ms/step - loss: 0.3827 - accuracy: 0.8472 - val_loss: 0.4624 - val_accuracy: 0.7901\n",
            "Epoch 179/200\n",
            "45/45 [==============================] - 0s 5ms/step - loss: 0.3888 - accuracy: 0.8403 - val_loss: 0.4460 - val_accuracy: 0.8025\n",
            "Epoch 180/200\n",
            "45/45 [==============================] - 0s 5ms/step - loss: 0.3829 - accuracy: 0.8458 - val_loss: 0.4447 - val_accuracy: 0.8025\n",
            "Epoch 181/200\n",
            "45/45 [==============================] - 0s 5ms/step - loss: 0.3858 - accuracy: 0.8472 - val_loss: 0.4725 - val_accuracy: 0.8148\n",
            "Epoch 182/200\n",
            "45/45 [==============================] - 0s 5ms/step - loss: 0.3816 - accuracy: 0.8486 - val_loss: 0.4423 - val_accuracy: 0.8025\n",
            "Epoch 183/200\n",
            "45/45 [==============================] - 0s 4ms/step - loss: 0.3876 - accuracy: 0.8444 - val_loss: 0.4671 - val_accuracy: 0.7901\n",
            "Epoch 184/200\n",
            "45/45 [==============================] - 0s 5ms/step - loss: 0.3810 - accuracy: 0.8500 - val_loss: 0.4749 - val_accuracy: 0.8148\n",
            "Epoch 185/200\n",
            "45/45 [==============================] - 0s 5ms/step - loss: 0.3810 - accuracy: 0.8444 - val_loss: 0.4618 - val_accuracy: 0.7901\n",
            "Epoch 186/200\n",
            "45/45 [==============================] - 0s 5ms/step - loss: 0.3843 - accuracy: 0.8389 - val_loss: 0.4775 - val_accuracy: 0.8272\n",
            "Epoch 187/200\n",
            "45/45 [==============================] - 0s 5ms/step - loss: 0.3883 - accuracy: 0.8431 - val_loss: 0.4412 - val_accuracy: 0.8148\n",
            "Epoch 188/200\n",
            "45/45 [==============================] - 0s 5ms/step - loss: 0.3838 - accuracy: 0.8486 - val_loss: 0.4431 - val_accuracy: 0.8025\n",
            "Epoch 189/200\n",
            "45/45 [==============================] - 0s 5ms/step - loss: 0.3882 - accuracy: 0.8431 - val_loss: 0.4549 - val_accuracy: 0.8025\n",
            "Epoch 190/200\n",
            "45/45 [==============================] - 0s 5ms/step - loss: 0.3834 - accuracy: 0.8403 - val_loss: 0.4570 - val_accuracy: 0.7901\n",
            "Epoch 191/200\n",
            "45/45 [==============================] - 0s 5ms/step - loss: 0.3837 - accuracy: 0.8361 - val_loss: 0.4458 - val_accuracy: 0.8025\n",
            "Epoch 192/200\n",
            "45/45 [==============================] - 0s 5ms/step - loss: 0.3834 - accuracy: 0.8361 - val_loss: 0.4771 - val_accuracy: 0.8272\n",
            "Epoch 193/200\n",
            "45/45 [==============================] - 0s 5ms/step - loss: 0.3832 - accuracy: 0.8375 - val_loss: 0.4419 - val_accuracy: 0.8395\n",
            "Epoch 194/200\n",
            "45/45 [==============================] - 0s 5ms/step - loss: 0.3861 - accuracy: 0.8458 - val_loss: 0.4630 - val_accuracy: 0.7901\n",
            "Epoch 195/200\n",
            "45/45 [==============================] - 0s 5ms/step - loss: 0.3832 - accuracy: 0.8472 - val_loss: 0.4474 - val_accuracy: 0.8025\n",
            "Epoch 196/200\n",
            "45/45 [==============================] - 0s 4ms/step - loss: 0.3874 - accuracy: 0.8347 - val_loss: 0.4617 - val_accuracy: 0.7901\n",
            "Epoch 197/200\n",
            "45/45 [==============================] - 0s 4ms/step - loss: 0.3863 - accuracy: 0.8458 - val_loss: 0.4598 - val_accuracy: 0.7901\n",
            "Epoch 198/200\n",
            "45/45 [==============================] - 0s 5ms/step - loss: 0.3837 - accuracy: 0.8375 - val_loss: 0.4427 - val_accuracy: 0.8272\n",
            "Epoch 199/200\n",
            "45/45 [==============================] - 0s 5ms/step - loss: 0.3828 - accuracy: 0.8444 - val_loss: 0.4611 - val_accuracy: 0.7901\n",
            "Epoch 200/200\n",
            "45/45 [==============================] - 0s 5ms/step - loss: 0.3793 - accuracy: 0.8486 - val_loss: 0.4548 - val_accuracy: 0.8025\n"
          ],
          "name": "stdout"
        }
      ]
    },
    {
      "cell_type": "code",
      "metadata": {
        "colab": {
          "base_uri": "https://localhost:8080/",
          "height": 283
        },
        "id": "bWL4Ncxlrw5n",
        "outputId": "88df087d-f307-469d-eb08-afbe9f5d328e"
      },
      "source": [
        "import matplotlib.pyplot as plt\r\n",
        "plt.figure(figsize=(12, 4))\r\n",
        "\r\n",
        "plt.subplot(1, 2, 1)\r\n",
        "plt.plot(history.history['loss'], 'b-', label='loss')\r\n",
        "plt.plot(history.history['val_loss'], 'r--', label='val_loss')\r\n",
        "plt.xlabel('Epoch')\r\n",
        "plt.legend()\r\n",
        "\r\n",
        "plt.subplot(1, 2, 2)\r\n",
        "plt.plot(history.history['accuracy'], 'g-', label='accuracy')\r\n",
        "plt.plot(history.history['val_accuracy'], 'k--', label='val_accuracy')\r\n",
        "plt.xlabel('Epoch')\r\n",
        "plt.ylim(0.7, 1)\r\n",
        "plt.legend()\r\n",
        "\r\n",
        "plt.show()"
      ],
      "execution_count": null,
      "outputs": [
        {
          "output_type": "display_data",
          "data": {
            "image/png": "[encoded data removed]",
            "text/plain": [
              "<Figure size 864x288 with 2 Axes>"
            ]
          },
          "metadata": {
            "tags": [],
            "needs_background": "light"
          }
        }
      ]
    },
    {
      "cell_type": "code",
      "metadata": {
        "colab": {
          "base_uri": "https://localhost:8080/"
        },
        "id": "qNYU88ZNqBlA",
        "outputId": "68b1c05d-3495-4955-92c4-40f67e8849e8"
      },
      "source": [
        "model.evaluate(x_test, y_test)"
      ],
      "execution_count": null,
      "outputs": [
        {
          "output_type": "stream",
          "text": [
            "3/3 [==============================] - 0s 3ms/step - loss: 0.4948 - accuracy: 0.7778\n"
          ],
          "name": "stdout"
        },
        {
          "output_type": "execute_result",
          "data": {
            "text/plain": [
              "[0.4947624206542969, 0.7777777910232544]"
            ]
          },
          "metadata": {
            "tags": []
          },
          "execution_count": 318
        }
      ]
    },
    {
      "cell_type": "code",
      "metadata": {
        "id": "__ilSNnMqU-O"
      },
      "source": [
        "test_pred = model.predict(test)"
      ],
      "execution_count": null,
      "outputs": []
    },
    {
      "cell_type": "code",
      "metadata": {
        "id": "5HOLkRsOr5vv"
      },
      "source": [
        "test_pred_argmax = np.argmax(test_pred, axis=1)"
      ],
      "execution_count": null,
      "outputs": []
    },
    {
      "cell_type": "code",
      "metadata": {
        "colab": {
          "base_uri": "https://localhost:8080/"
        },
        "id": "Dd8ASaG2t4Ev",
        "outputId": "4113a7a2-11c3-46b8-d071-43d6e6d54299"
      },
      "source": [
        "test_pred_argmax"
      ],
      "execution_count": null,
      "outputs": [
        {
          "output_type": "execute_result",
          "data": {
            "text/plain": [
              "array([0, 0, 0, 0, 1, 0, 1, 0, 1, 0, 0, 0, 1, 0, 1, 1, 0, 0, 1, 0, 0, 0,\n",
              "       1, 1, 1, 0, 1, 0, 0, 0, 0, 0, 0, 1, 1, 0, 1, 1, 0, 1, 0, 0, 0, 1,\n",
              "       1, 0, 0, 0, 1, 1, 1, 0, 1, 1, 0, 0, 0, 0, 0, 1, 0, 0, 0, 1, 1, 1,\n",
              "       1, 0, 1, 1, 1, 0, 1, 1, 1, 1, 0, 1, 0, 1, 0, 0, 0, 0, 0, 0, 1, 1,\n",
              "       1, 0, 1, 0, 1, 0, 1, 0, 1, 0, 1, 0, 1, 0, 0, 0, 1, 0, 0, 0, 0, 0,\n",
              "       0, 1, 1, 1, 1, 0, 0, 1, 1, 1, 1, 0, 1, 0, 0, 1, 0, 0, 0, 0, 0, 0,\n",
              "       0, 0, 0, 0, 0, 0, 1, 0, 0, 1, 0, 0, 1, 0, 1, 0, 0, 0, 1, 0, 0, 0,\n",
              "       0, 0, 1, 1, 0, 1, 1, 0, 1, 0, 0, 0, 0, 0, 1, 1, 0, 0, 0, 0, 0, 1,\n",
              "       1, 1, 1, 1, 0, 0, 1, 0, 1, 0, 1, 0, 0, 0, 0, 0, 0, 0, 1, 0, 1, 1,\n",
              "       0, 1, 1, 1, 0, 1, 0, 0, 1, 0, 1, 0, 0, 0, 0, 1, 0, 0, 1, 0, 1, 0,\n",
              "       1, 0, 1, 0, 1, 1, 0, 1, 0, 0, 1, 1, 0, 0, 0, 0, 0, 0, 1, 1, 1, 1,\n",
              "       1, 0, 0, 1, 1, 0, 1, 1, 1, 0, 1, 0, 0, 0, 0, 0, 1, 0, 0, 0, 1, 1,\n",
              "       0, 0, 0, 0, 1, 0, 1, 0, 1, 1, 0, 1, 0, 0, 0, 0, 1, 0, 1, 1, 1, 0,\n",
              "       0, 1, 0, 0, 0, 1, 0, 0, 0, 0, 1, 0, 0, 0, 0, 0, 0, 0, 1, 1, 0, 0,\n",
              "       1, 1, 0, 0, 0, 0, 1, 1, 0, 0, 0, 0, 0, 0, 0, 0, 1, 0, 1, 1, 0, 0,\n",
              "       1, 0, 0, 1, 0, 0, 0, 0, 0, 0, 0, 0, 0, 1, 0, 1, 0, 1, 0, 1, 1, 0,\n",
              "       0, 0, 1, 0, 1, 0, 0, 1, 0, 1, 1, 0, 1, 0, 0, 1, 1, 0, 0, 1, 0, 0,\n",
              "       1, 1, 0, 0, 0, 0, 0, 0, 0, 0, 0, 1, 0, 0, 0, 0, 1, 1, 0, 0, 0, 1,\n",
              "       0, 1, 0, 0, 1, 0, 1, 0, 1, 1, 0, 0, 1, 1, 1, 1, 1, 0, 1, 0, 0, 0])"
            ]
          },
          "metadata": {
            "tags": []
          },
          "execution_count": 321
        }
      ]
    },
    {
      "cell_type": "code",
      "metadata": {
        "id": "Z9eI-tOFx7JC"
      },
      "source": [
        "sub = submit['PassengerId']"
      ],
      "execution_count": null,
      "outputs": []
    },
    {
      "cell_type": "code",
      "metadata": {
        "id": "56i3tUcB0IJ1"
      },
      "source": [
        "sub = pd.concat([sub, pd.DataFrame(test_pred_argmax, columns=['Survived'])], axis=1)"
      ],
      "execution_count": null,
      "outputs": []
    },
    {
      "cell_type": "code",
      "metadata": {
        "id": "l_XficdN2T-i",
        "colab": {
          "base_uri": "https://localhost:8080/",
          "height": 408
        },
        "outputId": "53303bba-1ea5-405a-8e2d-bfbc47587cdd"
      },
      "source": [
        "sub"
      ],
      "execution_count": null,
      "outputs": [
        {
          "output_type": "execute_result",
          "data": {
            "text/html": [
              "<div>\n",
              "<style scoped>\n",
              "    .dataframe tbody tr th:only-of-type {\n",
              "        vertical-align: middle;\n",
              "    }\n",
              "\n",
              "    .dataframe tbody tr th {\n",
              "        vertical-align: top;\n",
              "    }\n",
              "\n",
              "    .dataframe thead th {\n",
              "        text-align: right;\n",
              "    }\n",
              "</style>\n",
              "<table border=\"1\" class=\"dataframe\">\n",
              "  <thead>\n",
              "    <tr style=\"text-align: right;\">\n",
              "      <th></th>\n",
              "      <th>PassengerId</th>\n",
              "      <th>Survived</th>\n",
              "    </tr>\n",
              "  </thead>\n",
              "  <tbody>\n",
              "    <tr>\n",
              "      <th>0</th>\n",
              "      <td>892</td>\n",
              "      <td>0</td>\n",
              "    </tr>\n",
              "    <tr>\n",
              "      <th>1</th>\n",
              "      <td>893</td>\n",
              "      <td>0</td>\n",
              "    </tr>\n",
              "    <tr>\n",
              "      <th>2</th>\n",
              "      <td>894</td>\n",
              "      <td>0</td>\n",
              "    </tr>\n",
              "    <tr>\n",
              "      <th>3</th>\n",
              "      <td>895</td>\n",
              "      <td>0</td>\n",
              "    </tr>\n",
              "    <tr>\n",
              "      <th>4</th>\n",
              "      <td>896</td>\n",
              "      <td>1</td>\n",
              "    </tr>\n",
              "    <tr>\n",
              "      <th>...</th>\n",
              "      <td>...</td>\n",
              "      <td>...</td>\n",
              "    </tr>\n",
              "    <tr>\n",
              "      <th>413</th>\n",
              "      <td>1305</td>\n",
              "      <td>0</td>\n",
              "    </tr>\n",
              "    <tr>\n",
              "      <th>414</th>\n",
              "      <td>1306</td>\n",
              "      <td>1</td>\n",
              "    </tr>\n",
              "    <tr>\n",
              "      <th>415</th>\n",
              "      <td>1307</td>\n",
              "      <td>0</td>\n",
              "    </tr>\n",
              "    <tr>\n",
              "      <th>416</th>\n",
              "      <td>1308</td>\n",
              "      <td>0</td>\n",
              "    </tr>\n",
              "    <tr>\n",
              "      <th>417</th>\n",
              "      <td>1309</td>\n",
              "      <td>0</td>\n",
              "    </tr>\n",
              "  </tbody>\n",
              "</table>\n",
              "<p>418 rows × 2 columns</p>\n",
              "</div>"
            ],
            "text/plain": [
              "     PassengerId  Survived\n",
              "0            892         0\n",
              "1            893         0\n",
              "2            894         0\n",
              "3            895         0\n",
              "4            896         1\n",
              "..           ...       ...\n",
              "413         1305         0\n",
              "414         1306         1\n",
              "415         1307         0\n",
              "416         1308         0\n",
              "417         1309         0\n",
              "\n",
              "[418 rows x 2 columns]"
            ]
          },
          "metadata": {
            "tags": []
          },
          "execution_count": 324
        }
      ]
    },
    {
      "cell_type": "code",
      "metadata": {
        "id": "3l4o36740kUr"
      },
      "source": [
        "sub.to_csv(\"/content/sample_data/titanic_0301.csv\", index=False)"
      ],
      "execution_count": null,
      "outputs": []
    },
    {
      "cell_type": "code",
      "metadata": {
        "id": "oa1CzSIt_sqd"
      },
      "source": [
        "jun = np.array([0, 0, 0, 0, 0, 0, 1, 1, 1, 0, 0, 0, 1, 0, 1, 1, 0, 0, 0, 1, 0, 1,\r\n",
        "       1, 1, 1, 0, 1, 0, 0, 0, 0, 0, 0, 0, 1, 1, 1, 1, 0, 0, 0, 0, 0, 1,\r\n",
        "       1, 0, 0, 0, 1, 0, 0, 0, 1, 1, 0, 0, 0, 0, 0, 1, 0, 0, 0, 1, 1, 1,\r\n",
        "       1, 0, 1, 0, 1, 0, 0, 1, 1, 0, 0, 1, 0, 1, 1, 0, 0, 0, 0, 0, 1, 1,\r\n",
        "       0, 1, 0, 0, 1, 0, 1, 0, 1, 0, 1, 0, 1, 0, 0, 0, 1, 0, 0, 0, 0, 0,\r\n",
        "       0, 1, 1, 1, 1, 0, 0, 1, 0, 1, 1, 0, 1, 0, 0, 1, 0, 0, 0, 0, 0, 1,\r\n",
        "       0, 1, 0, 0, 0, 0, 0, 0, 0, 1, 0, 0, 0, 0, 0, 0, 1, 0, 1, 0, 0, 0,\r\n",
        "       1, 0, 1, 1, 0, 1, 1, 1, 1, 0, 0, 0, 0, 0, 1, 1, 0, 0, 0, 0, 0, 1,\r\n",
        "       1, 0, 1, 1, 0, 1, 1, 0, 1, 0, 1, 0, 0, 0, 0, 1, 1, 0, 1, 0, 1, 1,\r\n",
        "       0, 1, 0, 1, 0, 1, 0, 0, 0, 0, 1, 0, 0, 0, 0, 1, 1, 0, 0, 0, 1, 0,\r\n",
        "       1, 0, 1, 0, 1, 1, 0, 1, 0, 0, 0, 1, 0, 0, 0, 0, 1, 0, 1, 1, 1, 1,\r\n",
        "       0, 0, 0, 0, 1, 0, 1, 0, 1, 0, 1, 0, 0, 0, 0, 0, 1, 0, 0, 0, 1, 1,\r\n",
        "       1, 0, 1, 0, 1, 0, 1, 0, 1, 0, 0, 1, 0, 0, 0, 0, 1, 1, 0, 1, 1, 0,\r\n",
        "       0, 1, 1, 0, 0, 1, 0, 1, 0, 0, 1, 0, 0, 0, 0, 1, 0, 0, 1, 1, 1, 1,\r\n",
        "       0, 0, 0, 0, 0, 0, 1, 0, 0, 0, 0, 0, 0, 1, 0, 1, 1, 0, 1, 0, 0, 0,\r\n",
        "       1, 0, 0, 1, 0, 0, 0, 1, 0, 1, 0, 0, 0, 1, 0, 1, 0, 1, 0, 1, 1, 0,\r\n",
        "       0, 0, 1, 0, 1, 0, 0, 0, 0, 1, 1, 0, 1, 0, 0, 0, 1, 0, 0, 1, 0, 0,\r\n",
        "       1, 1, 1, 0, 0, 1, 0, 0, 1, 1, 0, 1, 0, 0, 0, 1, 0, 1, 1, 0, 0, 1,\r\n",
        "       0, 1, 0, 0, 1, 0, 1, 0, 1, 1, 0, 0, 1, 1, 1, 1, 1, 0, 1, 0, 0, 1])"
      ],
      "execution_count": null,
      "outputs": []
    },
    {
      "cell_type": "code",
      "metadata": {
        "id": "BBZq-tLQu8ng"
      },
      "source": [
        "sub1 = submit['PassengerId']\r\n",
        "sub1 = pd.concat([sub1, pd.DataFrame(jun, columns=['Survived'])], axis=1)"
      ],
      "execution_count": null,
      "outputs": []
    },
    {
      "cell_type": "code",
      "metadata": {
        "id": "B7g6HwKUvI06",
        "colab": {
          "base_uri": "https://localhost:8080/",
          "height": 408
        },
        "outputId": "194417ab-f239-4daf-a1ad-4c7b4a87ebc7"
      },
      "source": [
        "sub1"
      ],
      "execution_count": null,
      "outputs": [
        {
          "output_type": "execute_result",
          "data": {
            "text/html": [
              "<div>\n",
              "<style scoped>\n",
              "    .dataframe tbody tr th:only-of-type {\n",
              "        vertical-align: middle;\n",
              "    }\n",
              "\n",
              "    .dataframe tbody tr th {\n",
              "        vertical-align: top;\n",
              "    }\n",
              "\n",
              "    .dataframe thead th {\n",
              "        text-align: right;\n",
              "    }\n",
              "</style>\n",
              "<table border=\"1\" class=\"dataframe\">\n",
              "  <thead>\n",
              "    <tr style=\"text-align: right;\">\n",
              "      <th></th>\n",
              "      <th>PassengerId</th>\n",
              "      <th>Survived</th>\n",
              "    </tr>\n",
              "  </thead>\n",
              "  <tbody>\n",
              "    <tr>\n",
              "      <th>0</th>\n",
              "      <td>892</td>\n",
              "      <td>0</td>\n",
              "    </tr>\n",
              "    <tr>\n",
              "      <th>1</th>\n",
              "      <td>893</td>\n",
              "      <td>0</td>\n",
              "    </tr>\n",
              "    <tr>\n",
              "      <th>2</th>\n",
              "      <td>894</td>\n",
              "      <td>0</td>\n",
              "    </tr>\n",
              "    <tr>\n",
              "      <th>3</th>\n",
              "      <td>895</td>\n",
              "      <td>0</td>\n",
              "    </tr>\n",
              "    <tr>\n",
              "      <th>4</th>\n",
              "      <td>896</td>\n",
              "      <td>0</td>\n",
              "    </tr>\n",
              "    <tr>\n",
              "      <th>...</th>\n",
              "      <td>...</td>\n",
              "      <td>...</td>\n",
              "    </tr>\n",
              "    <tr>\n",
              "      <th>413</th>\n",
              "      <td>1305</td>\n",
              "      <td>0</td>\n",
              "    </tr>\n",
              "    <tr>\n",
              "      <th>414</th>\n",
              "      <td>1306</td>\n",
              "      <td>1</td>\n",
              "    </tr>\n",
              "    <tr>\n",
              "      <th>415</th>\n",
              "      <td>1307</td>\n",
              "      <td>0</td>\n",
              "    </tr>\n",
              "    <tr>\n",
              "      <th>416</th>\n",
              "      <td>1308</td>\n",
              "      <td>0</td>\n",
              "    </tr>\n",
              "    <tr>\n",
              "      <th>417</th>\n",
              "      <td>1309</td>\n",
              "      <td>1</td>\n",
              "    </tr>\n",
              "  </tbody>\n",
              "</table>\n",
              "<p>418 rows × 2 columns</p>\n",
              "</div>"
            ],
            "text/plain": [
              "     PassengerId  Survived\n",
              "0            892         0\n",
              "1            893         0\n",
              "2            894         0\n",
              "3            895         0\n",
              "4            896         0\n",
              "..           ...       ...\n",
              "413         1305         0\n",
              "414         1306         1\n",
              "415         1307         0\n",
              "416         1308         0\n",
              "417         1309         1\n",
              "\n",
              "[418 rows x 2 columns]"
            ]
          },
          "metadata": {
            "tags": []
          },
          "execution_count": 328
        }
      ]
    },
    {
      "cell_type": "code",
      "metadata": {
        "id": "7cRSUP-ZvJeT"
      },
      "source": [
        "sub1.to_csv(\"/content/sample_data/titanic_jun.csv\", index=False)"
      ],
      "execution_count": null,
      "outputs": []
    },
    {
      "cell_type": "code",
      "metadata": {
        "id": "Gb6IGJo5vQxA"
      },
      "source": [
        ""
      ],
      "execution_count": null,
      "outputs": []
    }
  ]
}